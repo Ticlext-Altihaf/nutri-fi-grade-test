{
 "cells": [
  {
   "cell_type": "code",
   "execution_count": 1,
   "metadata": {},
   "outputs": [],
   "source": [
    "import pandas as pd\n",
    "from tqdm import tqdm\n",
    "import requests\n",
    "import os\n",
    "import json\n",
    "from concurrent.futures import ThreadPoolExecutor, as_completed\n"
   ]
  },
  {
   "cell_type": "code",
   "execution_count": 2,
   "metadata": {},
   "outputs": [
    {
     "data": {
      "text/html": [
       "<div>\n",
       "<style scoped>\n",
       "    .dataframe tbody tr th:only-of-type {\n",
       "        vertical-align: middle;\n",
       "    }\n",
       "\n",
       "    .dataframe tbody tr th {\n",
       "        vertical-align: top;\n",
       "    }\n",
       "\n",
       "    .dataframe thead th {\n",
       "        text-align: right;\n",
       "    }\n",
       "</style>\n",
       "<table border=\"1\" class=\"dataframe\">\n",
       "  <thead>\n",
       "    <tr style=\"text-align: right;\">\n",
       "      <th></th>\n",
       "      <th>ITEM</th>\n",
       "      <th>Nova Expectation</th>\n",
       "      <th>NutriScore Expectation</th>\n",
       "      <th>Actual Nova</th>\n",
       "      <th>Actual NutriScore</th>\n",
       "    </tr>\n",
       "  </thead>\n",
       "  <tbody>\n",
       "    <tr>\n",
       "      <th>0</th>\n",
       "      <td>Rice with Fried Chicken and Ketchup</td>\n",
       "      <td>3</td>\n",
       "      <td>D</td>\n",
       "      <td>4</td>\n",
       "      <td>D</td>\n",
       "    </tr>\n",
       "    <tr>\n",
       "      <th>1</th>\n",
       "      <td>Basmati Fried Rice with Fried Chicken and Sambal</td>\n",
       "      <td>3</td>\n",
       "      <td>C</td>\n",
       "      <td>3</td>\n",
       "      <td>C</td>\n",
       "    </tr>\n",
       "    <tr>\n",
       "      <th>2</th>\n",
       "      <td>Bakso with Meat Stuffed Tofu, Fried Wonton Dum...</td>\n",
       "      <td>3</td>\n",
       "      <td>C</td>\n",
       "      <td>4, 3, 3</td>\n",
       "      <td>D, C, C</td>\n",
       "    </tr>\n",
       "    <tr>\n",
       "      <th>3</th>\n",
       "      <td>Black Crust Pizza with Beef Ham Italian Sausag...</td>\n",
       "      <td>3</td>\n",
       "      <td>D</td>\n",
       "      <td>4</td>\n",
       "      <td>D</td>\n",
       "    </tr>\n",
       "    <tr>\n",
       "      <th>4</th>\n",
       "      <td>Chocolate Ice cream drizzled with Chocolate sauce</td>\n",
       "      <td>4</td>\n",
       "      <td>D</td>\n",
       "      <td>4</td>\n",
       "      <td>D</td>\n",
       "    </tr>\n",
       "  </tbody>\n",
       "</table>\n",
       "</div>"
      ],
      "text/plain": [
       "                                                ITEM  Nova Expectation  \\\n",
       "0                Rice with Fried Chicken and Ketchup                 3   \n",
       "1   Basmati Fried Rice with Fried Chicken and Sambal                 3   \n",
       "2  Bakso with Meat Stuffed Tofu, Fried Wonton Dum...                 3   \n",
       "3  Black Crust Pizza with Beef Ham Italian Sausag...                 3   \n",
       "4  Chocolate Ice cream drizzled with Chocolate sauce                 4   \n",
       "\n",
       "  NutriScore Expectation Actual Nova Actual NutriScore  \n",
       "0                      D           4                 D  \n",
       "1                      C           3                 C  \n",
       "2                      C     4, 3, 3           D, C, C  \n",
       "3                      D           4                 D  \n",
       "4                      D           4                 D  "
      ]
     },
     "execution_count": 2,
     "metadata": {},
     "output_type": "execute_result"
    }
   ],
   "source": [
    "df = pd.read_csv('Data Ekspektasi Grade FOOD - Sheet1.csv')\n",
    "# Convert to key-value format with splitting\n",
    "# Whitelisted values\n",
    "nova_whitelist = {'1', '2', '3', '4'}\n",
    "nutriscore_whitelist = {'A', 'B', 'C', 'D', 'E'}\n",
    "\n",
    "keyValueClown = {\n",
    "    row['ITEM']: {\n",
    "        \"Nova Expectation\": row['Nova Expectation'],\n",
    "        \"NutriScore Expectation\": row['NutriScore Expectation'],\n",
    "        \"Actual Nova\": [\n",
    "            x.strip() for x in str(row['Actual Nova']).split(',')\n",
    "            if pd.notna(x) and x.strip() in nova_whitelist\n",
    "        ],\n",
    "        \"Actual NutriScore\": [\n",
    "            x.strip() for x in str(row['Actual NutriScore']).split(',')\n",
    "            if pd.notna(x) and x.strip().upper() in nutriscore_whitelist\n",
    "        ]\n",
    "    }\n",
    "    for _, row in df.iterrows()\n",
    "}\n",
    "\n",
    "df.head()"
   ]
  },
  {
   "cell_type": "code",
   "execution_count": 3,
   "metadata": {},
   "outputs": [],
   "source": [
    "json.dump(keyValueClown, open('keyValueClown.json', 'w'), indent=4)"
   ]
  },
  {
   "cell_type": "markdown",
   "metadata": {},
   "source": [
    "\n",
    "ITEM\tNova Expectation\tNutriScore Expectation\tActual Nova\tActual NutriScore\n",
    "0\tRice with Fried Chicken and Ketchup\tThree\tD\tFour\tD\n",
    "1\tBasmati Fried Rice with Fried Chicken and Sambal\tThree\tC\tThree\tC\n",
    "2\tBakso with Meat Stuffed Tofu, Fried Wonton Dum...\tThree\tC\tFour, Three, Three\tD, C, C\n",
    "3\tBlack Crust Pizza with Beef Ham Italian Sausag...\tThree\tD\tFour\tD\n",
    "4\tChocolate Ice cream drizzled with Chocolate sauce\tFour\tD\tFour\tD"
   ]
  },
  {
   "cell_type": "code",
   "execution_count": 4,
   "metadata": {},
   "outputs": [],
   "source": [
    "mapping_dict_case_insensitive = {\n",
    "    'FOUR' : 4,\n",
    "    'THREE' : 3,\n",
    "    'TWO' : 2,\n",
    "    'ONE' : 1\n",
    "}"
   ]
  },
  {
   "cell_type": "code",
   "execution_count": 5,
   "metadata": {},
   "outputs": [
    {
     "name": "stderr",
     "output_type": "stream",
     "text": [
      "Uploading Images:   0%|          | 0/37 [00:00<?, ?it/s]"
     ]
    },
    {
     "name": "stderr",
     "output_type": "stream",
     "text": [
      "Uploading Images:   3%|▎         | 1/37 [00:04<02:26,  4.07s/it]"
     ]
    },
    {
     "name": "stdout",
     "output_type": "stream",
     "text": [
      "Uploaded Spaghetti with sliced meatballs.jpeg and updated DataFrame.\n"
     ]
    },
    {
     "name": "stderr",
     "output_type": "stream",
     "text": [
      "Uploading Images:   5%|▌         | 2/37 [00:07<02:13,  3.82s/it]"
     ]
    },
    {
     "name": "stdout",
     "output_type": "stream",
     "text": [
      "Uploaded Rice with Satay and Chili Sauce.jpg and updated DataFrame.\n"
     ]
    },
    {
     "name": "stderr",
     "output_type": "stream",
     "text": [
      "Uploading Images:   8%|▊         | 3/37 [00:12<02:28,  4.38s/it]"
     ]
    },
    {
     "name": "stdout",
     "output_type": "stream",
     "text": [
      "Uploaded Rice with Smashed Fried Chicken and Sambal.jpg and updated DataFrame.\n"
     ]
    },
    {
     "name": "stderr",
     "output_type": "stream",
     "text": [
      "Uploading Images:  11%|█         | 4/37 [00:13<01:32,  2.79s/it]"
     ]
    },
    {
     "name": "stdout",
     "output_type": "stream",
     "text": [
      "Uploaded Rice with Grilled Squid.jpg and updated DataFrame.\n"
     ]
    },
    {
     "name": "stderr",
     "output_type": "stream",
     "text": [
      "Uploading Images:  14%|█▎        | 5/37 [00:18<01:55,  3.61s/it]"
     ]
    },
    {
     "name": "stdout",
     "output_type": "stream",
     "text": [
      "Uploaded Rice with Grilled Squid(1).jpg and updated DataFrame.\n"
     ]
    },
    {
     "name": "stderr",
     "output_type": "stream",
     "text": [
      "Uploading Images:  16%|█▌        | 6/37 [00:20<01:39,  3.22s/it]"
     ]
    },
    {
     "name": "stdout",
     "output_type": "stream",
     "text": [
      "Uploaded Rice with Fried shallots, half a lime, and half of a boiled egg and ketchup package.jpg and updated DataFrame.\n"
     ]
    },
    {
     "name": "stderr",
     "output_type": "stream",
     "text": [
      "Uploading Images:  19%|█▉        | 7/37 [00:24<01:39,  3.30s/it]"
     ]
    },
    {
     "name": "stdout",
     "output_type": "stream",
     "text": [
      "Uploaded Rice with Fried shrimp, Ketchup and Salad.jpg and updated DataFrame.\n"
     ]
    },
    {
     "name": "stderr",
     "output_type": "stream",
     "text": [
      "Uploading Images:  22%|██▏       | 8/37 [00:28<01:41,  3.50s/it]"
     ]
    },
    {
     "name": "stdout",
     "output_type": "stream",
     "text": [
      "Uploaded Rice with Fried Tempe and Fried Chicken.jpg and updated DataFrame.\n"
     ]
    },
    {
     "name": "stderr",
     "output_type": "stream",
     "text": [
      "Uploading Images:  24%|██▍       | 9/37 [00:32<01:48,  3.86s/it]"
     ]
    },
    {
     "name": "stdout",
     "output_type": "stream",
     "text": [
      "Uploaded Rice with Fried Chicken and Ketchup.jpg and updated DataFrame.\n"
     ]
    },
    {
     "name": "stderr",
     "output_type": "stream",
     "text": [
      "Uploading Images:  27%|██▋       | 10/37 [00:34<01:28,  3.27s/it]"
     ]
    },
    {
     "name": "stdout",
     "output_type": "stream",
     "text": [
      "Uploaded Rice with Chicken Katsu Drizzled with Mayonaise and ketchup.jpg and updated DataFrame.\n"
     ]
    },
    {
     "name": "stderr",
     "output_type": "stream",
     "text": [
      "Uploading Images:  30%|██▉       | 11/37 [00:36<01:14,  2.85s/it]"
     ]
    },
    {
     "name": "stdout",
     "output_type": "stream",
     "text": [
      "Uploaded Rice with Chicken Fillet Drizzled in Mayonaise.jpg and updated DataFrame.\n"
     ]
    },
    {
     "name": "stderr",
     "output_type": "stream",
     "text": [
      "Uploading Images:  32%|███▏      | 12/37 [00:42<01:34,  3.78s/it]"
     ]
    },
    {
     "name": "stdout",
     "output_type": "stream",
     "text": [
      "Uploaded Rice with Black Pepper Chicken Fillet. Salad with Mayonaise and Ketchup.jpg and updated DataFrame.\n",
      "Uploaded Rice with Chicken Fillet Drizzled in Chili Sauce.jpg and updated DataFrame.\n"
     ]
    },
    {
     "name": "stderr",
     "output_type": "stream",
     "text": [
      "Uploading Images:  38%|███▊      | 14/37 [00:44<00:58,  2.55s/it]"
     ]
    },
    {
     "name": "stdout",
     "output_type": "stream",
     "text": [
      "Uploaded Ramen with half of a boikled egg, seaweed and fried seaweed.jpg and updated DataFrame.\n"
     ]
    },
    {
     "name": "stderr",
     "output_type": "stream",
     "text": [
      "Uploading Images:  41%|████      | 15/37 [00:50<01:14,  3.37s/it]"
     ]
    },
    {
     "name": "stdout",
     "output_type": "stream",
     "text": [
      "Uploaded Mini Kebab and Salad Drizzled in Ketchup.jpg and updated DataFrame.\n"
     ]
    },
    {
     "name": "stderr",
     "output_type": "stream",
     "text": [
      "Uploading Images:  43%|████▎     | 16/37 [00:54<01:13,  3.52s/it]"
     ]
    },
    {
     "name": "stdout",
     "output_type": "stream",
     "text": [
      "Uploaded Noodles with Minced Chicken, Sliced Chicken Katsu and Mustard Greens.jpg and updated DataFrame.\n"
     ]
    },
    {
     "name": "stderr",
     "output_type": "stream",
     "text": [
      "Uploading Images:  46%|████▌     | 17/37 [00:58<01:14,  3.71s/it]"
     ]
    },
    {
     "name": "stdout",
     "output_type": "stream",
     "text": [
      "Uploaded Japanese Curry with Fried Shrimp, Dumplings and Salad.jpg and updated DataFrame.\n"
     ]
    },
    {
     "name": "stderr",
     "output_type": "stream",
     "text": [
      "Uploading Images:  49%|████▊     | 18/37 [01:01<01:06,  3.53s/it]"
     ]
    },
    {
     "name": "stdout",
     "output_type": "stream",
     "text": [
      "Uploaded Grilled Meatballs with Sweet Soysauce.jpg and updated DataFrame.\n"
     ]
    },
    {
     "name": "stderr",
     "output_type": "stream",
     "text": [
      "Uploading Images:  51%|█████▏    | 19/37 [01:03<00:52,  2.93s/it]"
     ]
    },
    {
     "name": "stdout",
     "output_type": "stream",
     "text": [
      "Uploaded Japanese Curry with Chicken Fillet, Salad and sliced chili.jpg and updated DataFrame.\n"
     ]
    },
    {
     "name": "stderr",
     "output_type": "stream",
     "text": [
      "Uploading Images:  54%|█████▍    | 20/37 [01:08<01:03,  3.72s/it]"
     ]
    },
    {
     "name": "stdout",
     "output_type": "stream",
     "text": [
      "Uploaded Fried rice with Egg.jpg and updated DataFrame.\n"
     ]
    },
    {
     "name": "stderr",
     "output_type": "stream",
     "text": [
      "Uploading Images:  57%|█████▋    | 21/37 [01:10<00:51,  3.25s/it]"
     ]
    },
    {
     "name": "stdout",
     "output_type": "stream",
     "text": [
      "Uploaded Fried Rice with diced cucumbers, diced carrots.jpg and updated DataFrame.\n"
     ]
    },
    {
     "name": "stderr",
     "output_type": "stream",
     "text": [
      "Uploading Images:  59%|█████▉    | 22/37 [01:11<00:37,  2.52s/it]"
     ]
    },
    {
     "name": "stdout",
     "output_type": "stream",
     "text": [
      "Uploaded Fried Rice with Omelette and sliced cucumber.jpg and updated DataFrame.\n"
     ]
    },
    {
     "name": "stderr",
     "output_type": "stream",
     "text": [
      "Uploading Images:  62%|██████▏   | 23/37 [01:16<00:44,  3.15s/it]"
     ]
    },
    {
     "name": "stdout",
     "output_type": "stream",
     "text": [
      "Uploaded Fried Rice with Meatballs, sliced carrots, sliced cucumber, and shrimp chips package.jpg and updated DataFrame.\n"
     ]
    },
    {
     "name": "stderr",
     "output_type": "stream",
     "text": [
      "Uploading Images:  65%|██████▍   | 24/37 [01:18<00:38,  2.99s/it]"
     ]
    },
    {
     "name": "stdout",
     "output_type": "stream",
     "text": [
      "Uploaded Fried Rice with Fried Chicken drizzled in Cheese Sauce and sliced cucumbers.jpg and updated DataFrame.\n"
     ]
    },
    {
     "name": "stderr",
     "output_type": "stream",
     "text": [
      "Uploading Images:  68%|██████▊   | 25/37 [01:20<00:32,  2.68s/it]"
     ]
    },
    {
     "name": "stdout",
     "output_type": "stream",
     "text": [
      "Uploaded Fried Rice with Fried Egg and Sliced Cucumbers.jpg and updated DataFrame.\n"
     ]
    },
    {
     "name": "stderr",
     "output_type": "stream",
     "text": [
      "Uploading Images:  70%|███████   | 26/37 [01:27<00:41,  3.75s/it]"
     ]
    },
    {
     "name": "stdout",
     "output_type": "stream",
     "text": [
      "Uploaded Fried Noodles with Fried Wonton Dumplings, Wonton Crackers, Fried Shallots and Chives .jpg and updated DataFrame.\n"
     ]
    },
    {
     "name": "stderr",
     "output_type": "stream",
     "text": [
      "Uploading Images:  73%|███████▎  | 27/37 [01:27<00:28,  2.86s/it]"
     ]
    },
    {
     "name": "stdout",
     "output_type": "stream",
     "text": [
      "Uploaded Fried Rice with Diced Cucumbers and Sliced Fried Chicken.jpg and updated DataFrame.\n"
     ]
    },
    {
     "name": "stderr",
     "output_type": "stream",
     "text": [
      "Uploading Images:  76%|███████▌  | 28/37 [01:28<00:20,  2.27s/it]"
     ]
    },
    {
     "name": "stdout",
     "output_type": "stream",
     "text": [
      "Uploaded Fried Chicken with Rice.jpeg and updated DataFrame.\n"
     ]
    },
    {
     "name": "stderr",
     "output_type": "stream",
     "text": [
      "Uploading Images:  78%|███████▊  | 29/37 [01:30<00:15,  1.95s/it]"
     ]
    },
    {
     "name": "stdout",
     "output_type": "stream",
     "text": [
      "Uploaded Fried Fish.jpg and updated DataFrame.\n"
     ]
    },
    {
     "name": "stderr",
     "output_type": "stream",
     "text": [
      "Uploading Images:  81%|████████  | 30/37 [01:31<00:12,  1.73s/it]"
     ]
    },
    {
     "name": "stdout",
     "output_type": "stream",
     "text": [
      "Uploaded Dimsum with Chili Sauce.jpg and updated DataFrame.\n"
     ]
    },
    {
     "name": "stderr",
     "output_type": "stream",
     "text": [
      "Uploading Images:  84%|████████▍ | 31/37 [01:35<00:15,  2.61s/it]"
     ]
    },
    {
     "name": "stdout",
     "output_type": "stream",
     "text": [
      "Uploaded Frappucino with Whip Cream and Caramel Sauce.jpg and updated DataFrame.\n"
     ]
    },
    {
     "name": "stderr",
     "output_type": "stream",
     "text": [
      "Uploading Images:  86%|████████▋ | 32/37 [01:39<00:14,  2.93s/it]"
     ]
    },
    {
     "name": "stdout",
     "output_type": "stream",
     "text": [
      "Uploaded Fried Brown Rice with Green Pea.jpg and updated DataFrame.\n"
     ]
    },
    {
     "name": "stderr",
     "output_type": "stream",
     "text": [
      "Uploading Images:  89%|████████▉ | 33/37 [01:44<00:13,  3.48s/it]"
     ]
    },
    {
     "name": "stdout",
     "output_type": "stream",
     "text": [
      "Uploaded Chocolate Ice cream drizzled with Chocolate sauce.jpg and updated DataFrame.\n"
     ]
    },
    {
     "name": "stderr",
     "output_type": "stream",
     "text": [
      "Uploading Images:  92%|█████████▏| 34/37 [01:50<00:12,  4.14s/it]"
     ]
    },
    {
     "name": "stdout",
     "output_type": "stream",
     "text": [
      "Uploaded Chocolate Martabak.jpg and updated DataFrame.\n"
     ]
    },
    {
     "name": "stderr",
     "output_type": "stream",
     "text": [
      "Uploading Images:  95%|█████████▍| 35/37 [01:56<00:09,  4.95s/it]"
     ]
    },
    {
     "name": "stdout",
     "output_type": "stream",
     "text": [
      "Uploaded Bakso with Meat Stuffed Tofu, Fried Wonton Dumplings .jpg and updated DataFrame.\n"
     ]
    },
    {
     "name": "stderr",
     "output_type": "stream",
     "text": [
      "Uploading Images: 100%|██████████| 37/37 [01:57<00:00,  3.18s/it]"
     ]
    },
    {
     "name": "stdout",
     "output_type": "stream",
     "text": [
      "Uploaded Black Crust Pizza with Beef Ham Italian Sausage Pepperoni Pork Mediterranean Black Olives Green Bell.jpg and updated DataFrame.\n",
      "Uploaded Basmati Fried Rice with Fried Chicken and Sambal.jpg and updated DataFrame.\n"
     ]
    },
    {
     "name": "stderr",
     "output_type": "stream",
     "text": [
      "\n"
     ]
    }
   ],
   "source": [
    "def upload_image_and_get_response(file_path):\n",
    "    url = 'http://localhost:5128/Analysis/Method3'\n",
    "    with open(file_path, 'rb') as f:\n",
    "        files = {'image': (file_path, f, 'image/jpeg')}\n",
    "        response = requests.post(url, files=files)\n",
    "        \n",
    "        # Check if the response contains JSON data\n",
    "        if 'application/json' in response.headers.get('content-type', ''):\n",
    "            return response.json()\n",
    "        else:\n",
    "            response.raise_for_status()\n",
    "\n",
    "\n",
    "\n",
    "def update_dataframe_with_response(image_name, response_data):\n",
    "    # Remove the extension from the image name\n",
    "    image_name = os.path.splitext(image_name)[0]\n",
    "    nova_classification = response_data['novaClassification']\n",
    "    if str(nova_classification).upper() in mapping_dict_case_insensitive:\n",
    "        nova_classification = mapping_dict_case_insensitive[str(nova_classification).upper()]\n",
    "\n",
    "    if image_name not in keyValueClown:\n",
    "        keyValueClown[image_name] = {\n",
    "            \"Actual Nova\": [],\n",
    "            \"Actual NutriScore\": []\n",
    "        }\n",
    "\n",
    "    keyValueClown[image_name]['Actual Nova'].append(nova_classification)\n",
    "    keyValueClown[image_name]['Actual NutriScore'].append(response_data['nutriGrade'])\n",
    "    \n",
    "\n",
    "\n",
    "def upload_images_and_update_dataframe(directory):\n",
    "    image_files = [f for f in os.listdir(directory) if f.lower().endswith(('.png', '.jpg', '.jpeg', '.gif', '.bmp'))]\n",
    "    \n",
    "    with ThreadPoolExecutor(4) as executor:\n",
    "        future_to_file = {executor.submit(upload_image_and_get_response, os.path.join(directory, filename)): filename for filename in image_files}\n",
    "        \n",
    "        for future in tqdm(as_completed(future_to_file), total=len(image_files), desc=\"Uploading Images\"):\n",
    "            filename = future_to_file[future]\n",
    "            try:\n",
    "                response_data = future.result()\n",
    "                update_dataframe_with_response(filename, response_data)\n",
    "                print(f\"Uploaded {filename} and updated DataFrame.\")\n",
    "            except Exception as e:\n",
    "                print(f\"Error processing {filename}: {e}\")\n",
    "\n",
    "    # Export the data to a new CSV file\n",
    "    df = pd.DataFrame.from_dict(keyValueClown, orient='index').reset_index()\n",
    "    df.to_csv('Updated.csv', index=False)\n",
    "       \n",
    "\n",
    "# Example usage\n",
    "upload_images_and_update_dataframe('images')"
   ]
  },
  {
   "cell_type": "code",
   "execution_count": 10,
   "metadata": {},
   "outputs": [],
   "source": [
    "# Function to calculate accuracy for NutriScore\n",
    "def calculate_accuracy_for_nutriscore(expectation, actual):\n",
    "    # Convert actual to a list if it's a string with commas\n",
    "    if isinstance(actual, str) and ',' in actual:\n",
    "        actual = actual.split(', ')\n",
    "    elif isinstance(actual, dict) or isinstance(actual, list):\n",
    "        actual = actual\n",
    "    else:\n",
    "        actual = [actual]\n",
    "    \n",
    "    # Mapping NutriScore letters to numbers\n",
    "    score_mapping = {'A': 1, 'B': 2, 'C': 3, 'D': 4, 'E': 5}\n",
    "    \n",
    "    scores = []\n",
    "    \n",
    "    for act in actual:\n",
    "        if expectation == act:\n",
    "            scores.append(1.0)\n",
    "        else:\n",
    "            if expectation not in score_mapping or act not in score_mapping:\n",
    "                continue\n",
    "            exp_num = score_mapping[expectation]\n",
    "            act_num = score_mapping.get(act, 0)  # Default to 0 if not found\n",
    "            absolute_difference = abs(exp_num - act_num)\n",
    "            scores.append(1 - (absolute_difference / 4))\n",
    "    if len(scores) == 0:\n",
    "        return None\n",
    "    return sum(scores) / len(scores)\n",
    "\n",
    "for key in list(keyValueClown.keys()):\n",
    "    if 'Actual NutriScore' not in keyValueClown[key]:\n",
    "        continue\n",
    "    if 'NutriScore Expectation' not in keyValueClown[key]:\n",
    "        continue\n",
    "    keyValueClown[key]['NutriScore Accuracy'] = calculate_accuracy_for_nutriscore(\n",
    "        keyValueClown[key]['NutriScore Expectation'],\n",
    "        keyValueClown[key]['Actual NutriScore']\n",
    "    )\n",
    "\n",
    "\n"
   ]
  },
  {
   "cell_type": "code",
   "execution_count": 11,
   "metadata": {},
   "outputs": [],
   "source": [
    "# Function to calculate accuracy\n",
    "def calculate_accuracy_for_nova(expectation, actual):\n",
    "    if isinstance(actual, str) and ',' in actual:\n",
    "        actual = actual.split(', ')\n",
    "    elif isinstance(actual, dict) or isinstance(actual, list):\n",
    "        actual = actual\n",
    "    else:\n",
    "        actual = [actual]\n",
    "    \n",
    "    \n",
    "    \n",
    "    scores = []\n",
    "    \n",
    "    for act in actual:\n",
    "\n",
    "        if act == 'nan' or act != act:\n",
    "            return None\n",
    "        if expectation == act:\n",
    "            scores.append(1.0)\n",
    "        else:\n",
    "            act = int(act)\n",
    "            expectation = int(expectation)\n",
    "            absolute_difference = abs(act - expectation)\n",
    "            scores.append(1 - (absolute_difference / 3))\n",
    "    if len(scores) == 0:\n",
    "        return None\n",
    "    return sum(scores) / len(scores) \n",
    "\n",
    "for key in list(keyValueClown.keys()):\n",
    "    if 'Actual Nova' not in keyValueClown[key]:\n",
    "        continue\n",
    "    if 'Nova Expectation' not in keyValueClown[key]:\n",
    "        continue\n",
    "    keyValueClown[key]['Nova Accuracy'] = calculate_accuracy_for_nova(\n",
    "        keyValueClown[key]['Nova Expectation'],\n",
    "        keyValueClown[key]['Actual Nova']\n",
    "    )"
   ]
  },
  {
   "cell_type": "code",
   "execution_count": 12,
   "metadata": {},
   "outputs": [
    {
     "data": {
      "text/html": [
       "<div>\n",
       "<style scoped>\n",
       "    .dataframe tbody tr th:only-of-type {\n",
       "        vertical-align: middle;\n",
       "    }\n",
       "\n",
       "    .dataframe tbody tr th {\n",
       "        vertical-align: top;\n",
       "    }\n",
       "\n",
       "    .dataframe thead th {\n",
       "        text-align: right;\n",
       "    }\n",
       "</style>\n",
       "<table border=\"1\" class=\"dataframe\">\n",
       "  <thead>\n",
       "    <tr style=\"text-align: right;\">\n",
       "      <th></th>\n",
       "      <th>index</th>\n",
       "      <th>Nova Expectation</th>\n",
       "      <th>NutriScore Expectation</th>\n",
       "      <th>Actual Nova</th>\n",
       "      <th>Actual NutriScore</th>\n",
       "      <th>NutriScore Accuracy</th>\n",
       "      <th>Nova Accuracy</th>\n",
       "    </tr>\n",
       "  </thead>\n",
       "  <tbody>\n",
       "    <tr>\n",
       "      <th>0</th>\n",
       "      <td>Rice with Fried Chicken and Ketchup</td>\n",
       "      <td>3.0</td>\n",
       "      <td>D</td>\n",
       "      <td>[4, 4]</td>\n",
       "      <td>[D, D]</td>\n",
       "      <td>1.0000</td>\n",
       "      <td>0.666667</td>\n",
       "    </tr>\n",
       "    <tr>\n",
       "      <th>1</th>\n",
       "      <td>Basmati Fried Rice with Fried Chicken and Sambal</td>\n",
       "      <td>3.0</td>\n",
       "      <td>C</td>\n",
       "      <td>[3, 3]</td>\n",
       "      <td>[C, D]</td>\n",
       "      <td>0.8750</td>\n",
       "      <td>1.000000</td>\n",
       "    </tr>\n",
       "    <tr>\n",
       "      <th>2</th>\n",
       "      <td>Bakso with Meat Stuffed Tofu, Fried Wonton Dum...</td>\n",
       "      <td>3.0</td>\n",
       "      <td>C</td>\n",
       "      <td>[4, 3, 3, 3]</td>\n",
       "      <td>[D, C, C, C]</td>\n",
       "      <td>0.9375</td>\n",
       "      <td>0.916667</td>\n",
       "    </tr>\n",
       "    <tr>\n",
       "      <th>3</th>\n",
       "      <td>Black Crust Pizza with Beef Ham Italian Sausag...</td>\n",
       "      <td>3.0</td>\n",
       "      <td>D</td>\n",
       "      <td>[4]</td>\n",
       "      <td>[D]</td>\n",
       "      <td>1.0000</td>\n",
       "      <td>0.666667</td>\n",
       "    </tr>\n",
       "    <tr>\n",
       "      <th>4</th>\n",
       "      <td>Chocolate Ice cream drizzled with Chocolate sauce</td>\n",
       "      <td>4.0</td>\n",
       "      <td>D</td>\n",
       "      <td>[4, 4]</td>\n",
       "      <td>[D, D]</td>\n",
       "      <td>1.0000</td>\n",
       "      <td>1.000000</td>\n",
       "    </tr>\n",
       "  </tbody>\n",
       "</table>\n",
       "</div>"
      ],
      "text/plain": [
       "                                               index  Nova Expectation  \\\n",
       "0                Rice with Fried Chicken and Ketchup               3.0   \n",
       "1   Basmati Fried Rice with Fried Chicken and Sambal               3.0   \n",
       "2  Bakso with Meat Stuffed Tofu, Fried Wonton Dum...               3.0   \n",
       "3  Black Crust Pizza with Beef Ham Italian Sausag...               3.0   \n",
       "4  Chocolate Ice cream drizzled with Chocolate sauce               4.0   \n",
       "\n",
       "  NutriScore Expectation   Actual Nova Actual NutriScore  NutriScore Accuracy  \\\n",
       "0                      D        [4, 4]            [D, D]               1.0000   \n",
       "1                      C        [3, 3]            [C, D]               0.8750   \n",
       "2                      C  [4, 3, 3, 3]      [D, C, C, C]               0.9375   \n",
       "3                      D           [4]               [D]               1.0000   \n",
       "4                      D        [4, 4]            [D, D]               1.0000   \n",
       "\n",
       "   Nova Accuracy  \n",
       "0       0.666667  \n",
       "1       1.000000  \n",
       "2       0.916667  \n",
       "3       0.666667  \n",
       "4       1.000000  "
      ]
     },
     "execution_count": 12,
     "metadata": {},
     "output_type": "execute_result"
    }
   ],
   "source": [
    "# To dataframe\n",
    "df = pd.DataFrame.from_dict(keyValueClown, orient='index').reset_index()\n",
    "df.to_csv('Updated.csv', index=False)\n",
    "df.head()"
   ]
  },
  {
   "cell_type": "code",
   "execution_count": 18,
   "metadata": {},
   "outputs": [
    {
     "data": {
      "text/html": [
       "<div>\n",
       "<style scoped>\n",
       "    .dataframe tbody tr th:only-of-type {\n",
       "        vertical-align: middle;\n",
       "    }\n",
       "\n",
       "    .dataframe tbody tr th {\n",
       "        vertical-align: top;\n",
       "    }\n",
       "\n",
       "    .dataframe thead th {\n",
       "        text-align: right;\n",
       "    }\n",
       "</style>\n",
       "<table border=\"1\" class=\"dataframe\">\n",
       "  <thead>\n",
       "    <tr style=\"text-align: right;\">\n",
       "      <th></th>\n",
       "      <th>index</th>\n",
       "      <th>Nova Expectation</th>\n",
       "      <th>NutriScore Expectation</th>\n",
       "      <th>Actual Nova</th>\n",
       "      <th>Actual NutriScore</th>\n",
       "      <th>NutriScore Accuracy</th>\n",
       "      <th>Nova Accuracy</th>\n",
       "    </tr>\n",
       "  </thead>\n",
       "  <tbody>\n",
       "    <tr>\n",
       "      <th>0</th>\n",
       "      <td>Rice with Fried Chicken and Ketchup</td>\n",
       "      <td>3.0</td>\n",
       "      <td>D</td>\n",
       "      <td>[4, 4]</td>\n",
       "      <td>[D, D]</td>\n",
       "      <td>1.0000</td>\n",
       "      <td>0.666667</td>\n",
       "    </tr>\n",
       "    <tr>\n",
       "      <th>1</th>\n",
       "      <td>Basmati Fried Rice with Fried Chicken and Sambal</td>\n",
       "      <td>3.0</td>\n",
       "      <td>C</td>\n",
       "      <td>[3, 3]</td>\n",
       "      <td>[C, D]</td>\n",
       "      <td>0.8750</td>\n",
       "      <td>1.000000</td>\n",
       "    </tr>\n",
       "    <tr>\n",
       "      <th>2</th>\n",
       "      <td>Bakso with Meat Stuffed Tofu, Fried Wonton Dum...</td>\n",
       "      <td>3.0</td>\n",
       "      <td>C</td>\n",
       "      <td>[4, 3, 3, 3]</td>\n",
       "      <td>[D, C, C, C]</td>\n",
       "      <td>0.9375</td>\n",
       "      <td>0.916667</td>\n",
       "    </tr>\n",
       "    <tr>\n",
       "      <th>3</th>\n",
       "      <td>Black Crust Pizza with Beef Ham Italian Sausag...</td>\n",
       "      <td>3.0</td>\n",
       "      <td>D</td>\n",
       "      <td>[4]</td>\n",
       "      <td>[D]</td>\n",
       "      <td>1.0000</td>\n",
       "      <td>0.666667</td>\n",
       "    </tr>\n",
       "    <tr>\n",
       "      <th>4</th>\n",
       "      <td>Chocolate Ice cream drizzled with Chocolate sauce</td>\n",
       "      <td>4.0</td>\n",
       "      <td>D</td>\n",
       "      <td>[4, 4]</td>\n",
       "      <td>[D, D]</td>\n",
       "      <td>1.0000</td>\n",
       "      <td>1.000000</td>\n",
       "    </tr>\n",
       "  </tbody>\n",
       "</table>\n",
       "</div>"
      ],
      "text/plain": [
       "                                               index  Nova Expectation  \\\n",
       "0                Rice with Fried Chicken and Ketchup               3.0   \n",
       "1   Basmati Fried Rice with Fried Chicken and Sambal               3.0   \n",
       "2  Bakso with Meat Stuffed Tofu, Fried Wonton Dum...               3.0   \n",
       "3  Black Crust Pizza with Beef Ham Italian Sausag...               3.0   \n",
       "4  Chocolate Ice cream drizzled with Chocolate sauce               4.0   \n",
       "\n",
       "  NutriScore Expectation   Actual Nova Actual NutriScore  NutriScore Accuracy  \\\n",
       "0                      D        [4, 4]            [D, D]               1.0000   \n",
       "1                      C        [3, 3]            [C, D]               0.8750   \n",
       "2                      C  [4, 3, 3, 3]      [D, C, C, C]               0.9375   \n",
       "3                      D           [4]               [D]               1.0000   \n",
       "4                      D        [4, 4]            [D, D]               1.0000   \n",
       "\n",
       "   Nova Accuracy  \n",
       "0       0.666667  \n",
       "1       1.000000  \n",
       "2       0.916667  \n",
       "3       0.666667  \n",
       "4       1.000000  "
      ]
     },
     "execution_count": 18,
     "metadata": {},
     "output_type": "execute_result"
    }
   ],
   "source": [
    "# Add row total accuracy for NutriScore\n",
    "# filter Null values\n",
    "nutri_score_accuracy_non_null_len = len(df[df['NutriScore Accuracy'].notnull()])\n",
    "nutri_score_accuracy_sum = df['NutriScore Accuracy'].sum()\n",
    "df.loc['Total', 'NutriScore Accuracy'] = nutri_score_accuracy_sum / nutri_score_accuracy_non_null_len\n",
    "\n",
    "# Add row total accuracy for NOVA\n",
    "# filter Null values\n",
    "nova_accuracy_non_null_len = len(df[df['Nova Accuracy'].notnull()])\n",
    "nova_accuracy_sum = df['Nova Accuracy'].sum()\n",
    "df.loc['Total', 'Nova Accuracy'] = nova_accuracy_sum / nova_accuracy_non_null_len \n",
    "\n",
    "df.head()"
   ]
  },
  {
   "cell_type": "code",
   "execution_count": 19,
   "metadata": {},
   "outputs": [],
   "source": [
    "# Export the data to a new CSV file\n",
    "df.to_csv('Computed.csv', index=False)"
   ]
  }
 ],
 "metadata": {
  "kernelspec": {
   "display_name": "base",
   "language": "python",
   "name": "python3"
  },
  "language_info": {
   "codemirror_mode": {
    "name": "ipython",
    "version": 3
   },
   "file_extension": ".py",
   "mimetype": "text/x-python",
   "name": "python",
   "nbconvert_exporter": "python",
   "pygments_lexer": "ipython3",
   "version": "3.9.13"
  }
 },
 "nbformat": 4,
 "nbformat_minor": 2
}
