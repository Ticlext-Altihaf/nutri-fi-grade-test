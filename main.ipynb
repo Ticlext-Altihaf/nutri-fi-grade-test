{
 "cells": [
  {
   "cell_type": "code",
   "execution_count": 1,
   "metadata": {},
   "outputs": [],
   "source": [
    "import pandas as pd\n",
    "from tqdm import tqdm\n",
    "import requests\n",
    "import os\n",
    "import json\n",
    "import time\n",
    "from concurrent.futures import ThreadPoolExecutor, as_completed"
   ]
  },
  {
   "cell_type": "code",
   "execution_count": 2,
   "metadata": {},
   "outputs": [
    {
     "data": {
      "text/html": [
       "<div>\n",
       "<style scoped>\n",
       "    .dataframe tbody tr th:only-of-type {\n",
       "        vertical-align: middle;\n",
       "    }\n",
       "\n",
       "    .dataframe tbody tr th {\n",
       "        vertical-align: top;\n",
       "    }\n",
       "\n",
       "    .dataframe thead th {\n",
       "        text-align: right;\n",
       "    }\n",
       "</style>\n",
       "<table border=\"1\" class=\"dataframe\">\n",
       "  <thead>\n",
       "    <tr style=\"text-align: right;\">\n",
       "      <th></th>\n",
       "      <th>index</th>\n",
       "      <th>Nova Expectation</th>\n",
       "      <th>NutriScore Expectation</th>\n",
       "      <th>Actual Nova</th>\n",
       "      <th>Actual NutriScore</th>\n",
       "      <th>NutriScore Accuracy</th>\n",
       "      <th>Nova Accuracy</th>\n",
       "    </tr>\n",
       "  </thead>\n",
       "  <tbody>\n",
       "    <tr>\n",
       "      <th>0</th>\n",
       "      <td>Rice with Fried Chicken and Ketchup</td>\n",
       "      <td>3</td>\n",
       "      <td>D</td>\n",
       "      <td>NaN</td>\n",
       "      <td>NaN</td>\n",
       "      <td>NaN</td>\n",
       "      <td>NaN</td>\n",
       "    </tr>\n",
       "    <tr>\n",
       "      <th>1</th>\n",
       "      <td>Basmati Fried Rice with Fried Chicken and Sambal</td>\n",
       "      <td>3</td>\n",
       "      <td>C</td>\n",
       "      <td>NaN</td>\n",
       "      <td>NaN</td>\n",
       "      <td>NaN</td>\n",
       "      <td>NaN</td>\n",
       "    </tr>\n",
       "    <tr>\n",
       "      <th>2</th>\n",
       "      <td>Bakso with Meat Stuffed Tofu, Fried Wonton Dum...</td>\n",
       "      <td>3</td>\n",
       "      <td>C</td>\n",
       "      <td>NaN</td>\n",
       "      <td>NaN</td>\n",
       "      <td>NaN</td>\n",
       "      <td>NaN</td>\n",
       "    </tr>\n",
       "    <tr>\n",
       "      <th>3</th>\n",
       "      <td>Black Crust Pizza with Beef Ham Italian Sausag...</td>\n",
       "      <td>3</td>\n",
       "      <td>D</td>\n",
       "      <td>NaN</td>\n",
       "      <td>NaN</td>\n",
       "      <td>NaN</td>\n",
       "      <td>NaN</td>\n",
       "    </tr>\n",
       "    <tr>\n",
       "      <th>4</th>\n",
       "      <td>Chocolate Ice cream drizzled with Chocolate sauce</td>\n",
       "      <td>4</td>\n",
       "      <td>D</td>\n",
       "      <td>NaN</td>\n",
       "      <td>NaN</td>\n",
       "      <td>NaN</td>\n",
       "      <td>NaN</td>\n",
       "    </tr>\n",
       "  </tbody>\n",
       "</table>\n",
       "</div>"
      ],
      "text/plain": [
       "                                               index  Nova Expectation  \\\n",
       "0                Rice with Fried Chicken and Ketchup                 3   \n",
       "1   Basmati Fried Rice with Fried Chicken and Sambal                 3   \n",
       "2  Bakso with Meat Stuffed Tofu, Fried Wonton Dum...                 3   \n",
       "3  Black Crust Pizza with Beef Ham Italian Sausag...                 3   \n",
       "4  Chocolate Ice cream drizzled with Chocolate sauce                 4   \n",
       "\n",
       "  NutriScore Expectation  Actual Nova  Actual NutriScore  NutriScore Accuracy  \\\n",
       "0                      D          NaN                NaN                  NaN   \n",
       "1                      C          NaN                NaN                  NaN   \n",
       "2                      C          NaN                NaN                  NaN   \n",
       "3                      D          NaN                NaN                  NaN   \n",
       "4                      D          NaN                NaN                  NaN   \n",
       "\n",
       "   Nova Accuracy  \n",
       "0            NaN  \n",
       "1            NaN  \n",
       "2            NaN  \n",
       "3            NaN  \n",
       "4            NaN  "
      ]
     },
     "execution_count": 2,
     "metadata": {},
     "output_type": "execute_result"
    }
   ],
   "source": [
    "\n",
    "\n",
    "df = pd.read_csv('Data Ekspektasi Grade FOOD - Sheet1.csv')\n",
    "#drop empty rows\n",
    "df = df.dropna(subset=['index'])\n",
    "\n",
    "\n",
    "# Convert to key-value format with splitting\n",
    "# Whitelisted values\n",
    "nova_whitelist = {'1', '2', '3', '4', 'UNDEFINED'}\n",
    "nutriscore_whitelist = {'A', 'B', 'C', 'D', 'E', 'UNDEFINED'}\n",
    "\n",
    "keyValueClown = {\n",
    "    row['index']: {\n",
    "        \"Nova Expectation\": row['Nova Expectation'],\n",
    "        \"NutriScore Expectation\": row['NutriScore Expectation'],\n",
    "        \"Actual Nova\": [\n",
    "            x.strip() for x in str(row['Actual Nova']).split(',')\n",
    "            if pd.notna(x) and x.strip() in nova_whitelist\n",
    "        ],\n",
    "        \"Actual NutriScore\": [\n",
    "            x.strip() for x in str(row['Actual NutriScore']).split(',')\n",
    "            if pd.notna(x) and x.strip().upper() in nutriscore_whitelist\n",
    "        ]\n",
    "    }\n",
    "    for _, row in df.iterrows()\n",
    "}\n",
    "\n",
    "df.head()"
   ]
  },
  {
   "cell_type": "code",
   "execution_count": 13,
   "metadata": {},
   "outputs": [],
   "source": [
    "json.dump(keyValueClown, open('keyValueClown.json', 'w'), indent=4)"
   ]
  },
  {
   "cell_type": "markdown",
   "metadata": {},
   "source": [
    "\n",
    "ITEM\tNova Expectation\tNutriScore Expectation\tActual Nova\tActual NutriScore\n",
    "0\tRice with Fried Chicken and Ketchup\tThree\tD\tFour\tD\n",
    "1\tBasmati Fried Rice with Fried Chicken and Sambal\tThree\tC\tThree\tC\n",
    "2\tBakso with Meat Stuffed Tofu, Fried Wonton Dum...\tThree\tC\tFour, Three, Three\tD, C, C\n",
    "3\tBlack Crust Pizza with Beef Ham Italian Sausag...\tThree\tD\tFour\tD\n",
    "4\tChocolate Ice cream drizzled with Chocolate sauce\tFour\tD\tFour\tD"
   ]
  },
  {
   "cell_type": "code",
   "execution_count": 3,
   "metadata": {},
   "outputs": [],
   "source": [
    "mapping_dict_case_insensitive = {\n",
    "    'UNDEFINED': 'UNDEFINED',\n",
    "    'FOUR' : 4,\n",
    "    'THREE' : 3,\n",
    "    'TWO' : 2,\n",
    "    'ONE' : 1\n",
    "}"
   ]
  },
  {
   "cell_type": "code",
   "execution_count": 10,
   "metadata": {},
   "outputs": [
    {
     "name": "stderr",
     "output_type": "stream",
     "text": [
      "Uploading Images:   3%|▎         | 1/37 [00:19<11:43, 19.55s/it]"
     ]
    },
    {
     "name": "stdout",
     "output_type": "stream",
     "text": [
      "Uploaded Spaghetti with sliced meatballs.jpeg and updated DataFrame.\n"
     ]
    },
    {
     "name": "stderr",
     "output_type": "stream",
     "text": [
      "Uploading Images:   5%|▌         | 2/37 [00:45<13:42, 23.50s/it]"
     ]
    },
    {
     "name": "stdout",
     "output_type": "stream",
     "text": [
      "Uploaded Rice with Smashed Fried Chicken and Sambal.jpg and updated DataFrame.\n"
     ]
    },
    {
     "name": "stderr",
     "output_type": "stream",
     "text": [
      "Uploading Images:   8%|▊         | 3/37 [01:11<13:49, 24.39s/it]"
     ]
    },
    {
     "name": "stdout",
     "output_type": "stream",
     "text": [
      "Uploaded Rice with Satay and Chili Sauce.jpg and updated DataFrame.\n"
     ]
    },
    {
     "name": "stderr",
     "output_type": "stream",
     "text": [
      "Uploading Images:  11%|█         | 4/37 [01:32<12:44, 23.16s/it]"
     ]
    },
    {
     "name": "stdout",
     "output_type": "stream",
     "text": [
      "Uploaded Rice with Grilled Squid.jpg and updated DataFrame.\n"
     ]
    },
    {
     "name": "stderr",
     "output_type": "stream",
     "text": [
      "Uploading Images:  14%|█▎        | 5/37 [02:07<14:33, 27.30s/it]"
     ]
    },
    {
     "name": "stdout",
     "output_type": "stream",
     "text": [
      "Uploaded Rice with Grilled Squid(1).jpg and updated DataFrame.\n"
     ]
    },
    {
     "name": "stderr",
     "output_type": "stream",
     "text": [
      "Uploading Images:  16%|█▌        | 6/37 [02:28<12:59, 25.15s/it]"
     ]
    },
    {
     "name": "stdout",
     "output_type": "stream",
     "text": [
      "Uploaded Rice with Fried shrimp, Ketchup and Salad.jpg and updated DataFrame.\n"
     ]
    },
    {
     "name": "stderr",
     "output_type": "stream",
     "text": [
      "Uploading Images:  19%|█▉        | 7/37 [02:51<12:15, 24.50s/it]"
     ]
    },
    {
     "name": "stdout",
     "output_type": "stream",
     "text": [
      "Uploaded Rice with Fried shallots, half a lime, and half of a boiled egg and ketchup package.jpg and updated DataFrame.\n"
     ]
    },
    {
     "name": "stderr",
     "output_type": "stream",
     "text": [
      "Uploading Images:  22%|██▏       | 8/37 [03:19<12:28, 25.79s/it]"
     ]
    },
    {
     "name": "stdout",
     "output_type": "stream",
     "text": [
      "Uploaded Rice with Fried Tempe and Fried Chicken.jpg and updated DataFrame.\n"
     ]
    },
    {
     "name": "stderr",
     "output_type": "stream",
     "text": [
      "Uploading Images:  24%|██▍       | 9/37 [03:45<11:58, 25.66s/it]"
     ]
    },
    {
     "name": "stdout",
     "output_type": "stream",
     "text": [
      "Uploaded Rice with Fried Chicken and Ketchup.jpg and updated DataFrame.\n"
     ]
    },
    {
     "name": "stderr",
     "output_type": "stream",
     "text": [
      "Uploading Images:  27%|██▋       | 10/37 [04:04<10:37, 23.61s/it]"
     ]
    },
    {
     "name": "stdout",
     "output_type": "stream",
     "text": [
      "Uploaded Rice with Chicken Katsu Drizzled with Mayonaise and ketchup.jpg and updated DataFrame.\n"
     ]
    },
    {
     "name": "stderr",
     "output_type": "stream",
     "text": [
      "Uploading Images:  30%|██▉       | 11/37 [04:25<09:54, 22.86s/it]"
     ]
    },
    {
     "name": "stdout",
     "output_type": "stream",
     "text": [
      "Uploaded Rice with Chicken Fillet Drizzled in Mayonaise.jpg and updated DataFrame.\n"
     ]
    },
    {
     "name": "stderr",
     "output_type": "stream",
     "text": [
      "Uploading Images:  32%|███▏      | 12/37 [04:52<10:06, 24.25s/it]"
     ]
    },
    {
     "name": "stdout",
     "output_type": "stream",
     "text": [
      "Uploaded Rice with Chicken Fillet Drizzled in Chili Sauce.jpg and updated DataFrame.\n"
     ]
    },
    {
     "name": "stderr",
     "output_type": "stream",
     "text": [
      "Uploading Images:  35%|███▌      | 13/37 [05:24<10:32, 26.36s/it]"
     ]
    },
    {
     "name": "stdout",
     "output_type": "stream",
     "text": [
      "Uploaded Rice with Black Pepper Chicken Fillet. Salad with Mayonaise and Ketchup.jpg and updated DataFrame.\n"
     ]
    },
    {
     "name": "stderr",
     "output_type": "stream",
     "text": [
      "Uploading Images:  38%|███▊      | 14/37 [05:55<10:39, 27.82s/it]"
     ]
    },
    {
     "name": "stdout",
     "output_type": "stream",
     "text": [
      "Uploaded Ramen with half of a boikled egg, seaweed and fried seaweed.jpg and updated DataFrame.\n"
     ]
    },
    {
     "name": "stderr",
     "output_type": "stream",
     "text": [
      "Uploading Images:  41%|████      | 15/37 [06:24<10:18, 28.13s/it]"
     ]
    },
    {
     "name": "stdout",
     "output_type": "stream",
     "text": [
      "Uploaded Noodles with Minced Chicken, Sliced Chicken Katsu and Mustard Greens.jpg and updated DataFrame.\n"
     ]
    },
    {
     "name": "stderr",
     "output_type": "stream",
     "text": [
      "Uploading Images:  43%|████▎     | 16/37 [06:55<10:10, 29.09s/it]"
     ]
    },
    {
     "name": "stdout",
     "output_type": "stream",
     "text": [
      "Uploaded Mini Kebab and Salad Drizzled in Ketchup.jpg and updated DataFrame.\n"
     ]
    },
    {
     "name": "stderr",
     "output_type": "stream",
     "text": [
      "Uploading Images:  46%|████▌     | 17/37 [07:16<08:55, 26.78s/it]"
     ]
    },
    {
     "name": "stdout",
     "output_type": "stream",
     "text": [
      "Uploaded Japanese Curry with Fried Shrimp, Dumplings and Salad.jpg and updated DataFrame.\n"
     ]
    },
    {
     "name": "stderr",
     "output_type": "stream",
     "text": [
      "Uploading Images:  49%|████▊     | 18/37 [07:39<08:04, 25.52s/it]"
     ]
    },
    {
     "name": "stdout",
     "output_type": "stream",
     "text": [
      "Uploaded Japanese Curry with Chicken Fillet, Salad and sliced chili.jpg and updated DataFrame.\n"
     ]
    },
    {
     "name": "stderr",
     "output_type": "stream",
     "text": [
      "Uploading Images:  51%|█████▏    | 19/37 [08:13<08:25, 28.11s/it]"
     ]
    },
    {
     "name": "stdout",
     "output_type": "stream",
     "text": [
      "Uploaded Grilled Meatballs with Sweet Soysauce.jpg and updated DataFrame.\n"
     ]
    },
    {
     "name": "stderr",
     "output_type": "stream",
     "text": [
      "Uploading Images:  54%|█████▍    | 20/37 [08:40<07:53, 27.83s/it]"
     ]
    },
    {
     "name": "stdout",
     "output_type": "stream",
     "text": [
      "Uploaded Fried rice with Egg.jpg and updated DataFrame.\n"
     ]
    },
    {
     "name": "stderr",
     "output_type": "stream",
     "text": [
      "Uploading Images:  57%|█████▋    | 21/37 [09:01<06:53, 25.83s/it]"
     ]
    },
    {
     "name": "stdout",
     "output_type": "stream",
     "text": [
      "Uploaded Fried Rice with diced cucumbers, diced carrots.jpg and updated DataFrame.\n"
     ]
    },
    {
     "name": "stderr",
     "output_type": "stream",
     "text": [
      "Uploading Images:  59%|█████▉    | 22/37 [09:32<06:49, 27.27s/it]"
     ]
    },
    {
     "name": "stdout",
     "output_type": "stream",
     "text": [
      "Uploaded Fried Rice with Omelette and sliced cucumber.jpg and updated DataFrame.\n"
     ]
    },
    {
     "name": "stderr",
     "output_type": "stream",
     "text": [
      "Uploading Images:  62%|██████▏   | 23/37 [10:02<06:34, 28.18s/it]"
     ]
    },
    {
     "name": "stdout",
     "output_type": "stream",
     "text": [
      "Uploaded Fried Rice with Meatballs, sliced carrots, sliced cucumber, and shrimp chips package.jpg and updated DataFrame.\n"
     ]
    },
    {
     "name": "stderr",
     "output_type": "stream",
     "text": [
      "Uploading Images:  65%|██████▍   | 24/37 [10:22<05:32, 25.60s/it]"
     ]
    },
    {
     "name": "stdout",
     "output_type": "stream",
     "text": [
      "Uploaded Fried Rice with Fried Egg and Sliced Cucumbers.jpg and updated DataFrame.\n"
     ]
    },
    {
     "name": "stderr",
     "output_type": "stream",
     "text": [
      "Uploading Images:  68%|██████▊   | 25/37 [10:45<04:57, 24.82s/it]"
     ]
    },
    {
     "name": "stdout",
     "output_type": "stream",
     "text": [
      "Uploaded Fried Rice with Fried Chicken drizzled in Cheese Sauce and sliced cucumbers.jpg and updated DataFrame.\n"
     ]
    },
    {
     "name": "stderr",
     "output_type": "stream",
     "text": [
      "Uploading Images:  70%|███████   | 26/37 [11:08<04:28, 24.43s/it]"
     ]
    },
    {
     "name": "stdout",
     "output_type": "stream",
     "text": [
      "Uploaded Fried Rice with Diced Cucumbers and Sliced Fried Chicken.jpg and updated DataFrame.\n"
     ]
    },
    {
     "name": "stderr",
     "output_type": "stream",
     "text": [
      "Uploading Images:  73%|███████▎  | 27/37 [11:32<04:02, 24.24s/it]"
     ]
    },
    {
     "name": "stdout",
     "output_type": "stream",
     "text": [
      "Uploaded Fried Noodles with Fried Wonton Dumplings, Wonton Crackers, Fried Shallots and Chives .jpg and updated DataFrame.\n"
     ]
    },
    {
     "name": "stderr",
     "output_type": "stream",
     "text": [
      "Uploading Images:  76%|███████▌  | 28/37 [11:57<03:39, 24.44s/it]"
     ]
    },
    {
     "name": "stdout",
     "output_type": "stream",
     "text": [
      "Uploaded Fried Fish.jpg and updated DataFrame.\n"
     ]
    },
    {
     "name": "stderr",
     "output_type": "stream",
     "text": [
      "Uploading Images:  78%|███████▊  | 29/37 [12:13<02:55, 21.96s/it]"
     ]
    },
    {
     "name": "stdout",
     "output_type": "stream",
     "text": [
      "Uploaded Fried Chicken with Rice.jpeg and updated DataFrame.\n"
     ]
    },
    {
     "name": "stderr",
     "output_type": "stream",
     "text": [
      "Uploading Images:  81%|████████  | 30/37 [12:42<02:48, 24.04s/it]"
     ]
    },
    {
     "name": "stdout",
     "output_type": "stream",
     "text": [
      "Uploaded Fried Brown Rice with Green Pea.jpg and updated DataFrame.\n"
     ]
    },
    {
     "name": "stderr",
     "output_type": "stream",
     "text": [
      "Uploading Images:  84%|████████▍ | 31/37 [13:05<02:21, 23.60s/it]"
     ]
    },
    {
     "name": "stdout",
     "output_type": "stream",
     "text": [
      "Uploaded Frappucino with Whip Cream and Caramel Sauce.jpg and updated DataFrame.\n"
     ]
    },
    {
     "name": "stderr",
     "output_type": "stream",
     "text": [
      "Uploading Images:  86%|████████▋ | 32/37 [13:25<01:53, 22.68s/it]"
     ]
    },
    {
     "name": "stdout",
     "output_type": "stream",
     "text": [
      "Uploaded Dimsum with Chili Sauce.jpg and updated DataFrame.\n"
     ]
    },
    {
     "name": "stderr",
     "output_type": "stream",
     "text": [
      "Uploading Images:  89%|████████▉ | 33/37 [13:53<01:36, 24.18s/it]"
     ]
    },
    {
     "name": "stdout",
     "output_type": "stream",
     "text": [
      "Uploaded Chocolate Martabak.jpg and updated DataFrame.\n"
     ]
    },
    {
     "name": "stderr",
     "output_type": "stream",
     "text": [
      "Uploading Images:  92%|█████████▏| 34/37 [14:15<01:10, 23.62s/it]"
     ]
    },
    {
     "name": "stdout",
     "output_type": "stream",
     "text": [
      "Uploaded Chocolate Ice cream drizzled with Chocolate sauce.jpg and updated DataFrame.\n"
     ]
    },
    {
     "name": "stderr",
     "output_type": "stream",
     "text": [
      "Uploading Images:  95%|█████████▍| 35/37 [14:37<00:45, 22.91s/it]"
     ]
    },
    {
     "name": "stdout",
     "output_type": "stream",
     "text": [
      "Uploaded Black Crust Pizza with Beef Ham Italian Sausage Pepperoni Pork Mediterranean Black Olives Green Bell.jpg and updated DataFrame.\n"
     ]
    },
    {
     "name": "stderr",
     "output_type": "stream",
     "text": [
      "Uploading Images:  97%|█████████▋| 36/37 [15:03<00:23, 23.95s/it]"
     ]
    },
    {
     "name": "stdout",
     "output_type": "stream",
     "text": [
      "Uploaded Basmati Fried Rice with Fried Chicken and Sambal.jpg and updated DataFrame.\n"
     ]
    },
    {
     "name": "stderr",
     "output_type": "stream",
     "text": [
      "Uploading Images: 100%|██████████| 37/37 [15:23<00:00, 24.95s/it]\n"
     ]
    },
    {
     "name": "stdout",
     "output_type": "stream",
     "text": [
      "Uploaded Bakso with Meat Stuffed Tofu, Fried Wonton Dumplings .jpg and updated DataFrame.\n"
     ]
    },
    {
     "name": "stderr",
     "output_type": "stream",
     "text": [
      "Uploading Images:   3%|▎         | 1/37 [00:21<12:38, 21.06s/it]"
     ]
    },
    {
     "name": "stdout",
     "output_type": "stream",
     "text": [
      "Uploaded Spaghetti with sliced meatballs.jpeg and updated DataFrame.\n"
     ]
    },
    {
     "name": "stderr",
     "output_type": "stream",
     "text": [
      "Uploading Images:   5%|▌         | 2/37 [00:46<13:38, 23.39s/it]"
     ]
    },
    {
     "name": "stdout",
     "output_type": "stream",
     "text": [
      "Uploaded Rice with Smashed Fried Chicken and Sambal.jpg and updated DataFrame.\n"
     ]
    },
    {
     "name": "stderr",
     "output_type": "stream",
     "text": [
      "Uploading Images:   8%|▊         | 3/37 [01:11<13:53, 24.52s/it]"
     ]
    },
    {
     "name": "stdout",
     "output_type": "stream",
     "text": [
      "Uploaded Rice with Satay and Chili Sauce.jpg and updated DataFrame.\n"
     ]
    },
    {
     "name": "stderr",
     "output_type": "stream",
     "text": [
      "Uploading Images:  11%|█         | 4/37 [01:42<14:46, 26.87s/it]"
     ]
    },
    {
     "name": "stdout",
     "output_type": "stream",
     "text": [
      "Uploaded Rice with Grilled Squid.jpg and updated DataFrame.\n"
     ]
    },
    {
     "name": "stderr",
     "output_type": "stream",
     "text": [
      "Uploading Images:  14%|█▎        | 5/37 [02:04<13:22, 25.08s/it]"
     ]
    },
    {
     "name": "stdout",
     "output_type": "stream",
     "text": [
      "Uploaded Rice with Grilled Squid(1).jpg and updated DataFrame.\n"
     ]
    },
    {
     "name": "stderr",
     "output_type": "stream",
     "text": [
      "Uploading Images:  16%|█▌        | 6/37 [02:26<12:26, 24.07s/it]"
     ]
    },
    {
     "name": "stdout",
     "output_type": "stream",
     "text": [
      "Uploaded Rice with Fried shrimp, Ketchup and Salad.jpg and updated DataFrame.\n"
     ]
    },
    {
     "name": "stderr",
     "output_type": "stream",
     "text": [
      "Uploading Images:  19%|█▉        | 7/37 [03:03<14:12, 28.42s/it]"
     ]
    },
    {
     "name": "stdout",
     "output_type": "stream",
     "text": [
      "Uploaded Rice with Fried shallots, half a lime, and half of a boiled egg and ketchup package.jpg and updated DataFrame.\n"
     ]
    },
    {
     "name": "stderr",
     "output_type": "stream",
     "text": [
      "Uploading Images:  22%|██▏       | 8/37 [03:25<12:38, 26.16s/it]"
     ]
    },
    {
     "name": "stdout",
     "output_type": "stream",
     "text": [
      "Uploaded Rice with Fried Tempe and Fried Chicken.jpg and updated DataFrame.\n"
     ]
    },
    {
     "name": "stderr",
     "output_type": "stream",
     "text": [
      "Uploading Images:  24%|██▍       | 9/37 [03:44<11:13, 24.06s/it]"
     ]
    },
    {
     "name": "stdout",
     "output_type": "stream",
     "text": [
      "Uploaded Rice with Fried Chicken and Ketchup.jpg and updated DataFrame.\n"
     ]
    },
    {
     "name": "stderr",
     "output_type": "stream",
     "text": [
      "Uploading Images:  27%|██▋       | 10/37 [04:04<10:18, 22.90s/it]"
     ]
    },
    {
     "name": "stdout",
     "output_type": "stream",
     "text": [
      "Uploaded Rice with Chicken Katsu Drizzled with Mayonaise and ketchup.jpg and updated DataFrame.\n"
     ]
    },
    {
     "name": "stderr",
     "output_type": "stream",
     "text": [
      "Uploading Images:  30%|██▉       | 11/37 [04:30<10:15, 23.66s/it]"
     ]
    },
    {
     "name": "stdout",
     "output_type": "stream",
     "text": [
      "Uploaded Rice with Chicken Fillet Drizzled in Mayonaise.jpg and updated DataFrame.\n"
     ]
    },
    {
     "name": "stderr",
     "output_type": "stream",
     "text": [
      "Uploading Images:  32%|███▏      | 12/37 [04:59<10:33, 25.33s/it]"
     ]
    },
    {
     "name": "stdout",
     "output_type": "stream",
     "text": [
      "Uploaded Rice with Chicken Fillet Drizzled in Chili Sauce.jpg and updated DataFrame.\n"
     ]
    },
    {
     "name": "stderr",
     "output_type": "stream",
     "text": [
      "Uploading Images:  35%|███▌      | 13/37 [05:21<09:41, 24.25s/it]"
     ]
    },
    {
     "name": "stdout",
     "output_type": "stream",
     "text": [
      "Uploaded Rice with Black Pepper Chicken Fillet. Salad with Mayonaise and Ketchup.jpg and updated DataFrame.\n"
     ]
    },
    {
     "name": "stderr",
     "output_type": "stream",
     "text": [
      "Uploading Images:  38%|███▊      | 14/37 [05:51<09:57, 25.98s/it]"
     ]
    },
    {
     "name": "stdout",
     "output_type": "stream",
     "text": [
      "Uploaded Ramen with half of a boikled egg, seaweed and fried seaweed.jpg and updated DataFrame.\n"
     ]
    },
    {
     "name": "stderr",
     "output_type": "stream",
     "text": [
      "Uploading Images:  41%|████      | 15/37 [06:17<09:33, 26.06s/it]"
     ]
    },
    {
     "name": "stdout",
     "output_type": "stream",
     "text": [
      "Uploaded Noodles with Minced Chicken, Sliced Chicken Katsu and Mustard Greens.jpg and updated DataFrame.\n"
     ]
    },
    {
     "name": "stderr",
     "output_type": "stream",
     "text": [
      "Uploading Images:  43%|████▎     | 16/37 [06:52<10:02, 28.69s/it]"
     ]
    },
    {
     "name": "stdout",
     "output_type": "stream",
     "text": [
      "Uploaded Mini Kebab and Salad Drizzled in Ketchup.jpg and updated DataFrame.\n"
     ]
    },
    {
     "name": "stderr",
     "output_type": "stream",
     "text": [
      "Uploading Images:  46%|████▌     | 17/37 [07:16<09:07, 27.39s/it]"
     ]
    },
    {
     "name": "stdout",
     "output_type": "stream",
     "text": [
      "Uploaded Japanese Curry with Fried Shrimp, Dumplings and Salad.jpg and updated DataFrame.\n"
     ]
    },
    {
     "name": "stderr",
     "output_type": "stream",
     "text": [
      "Uploading Images:  49%|████▊     | 18/37 [07:40<08:23, 26.48s/it]"
     ]
    },
    {
     "name": "stdout",
     "output_type": "stream",
     "text": [
      "Uploaded Japanese Curry with Chicken Fillet, Salad and sliced chili.jpg and updated DataFrame.\n"
     ]
    },
    {
     "name": "stderr",
     "output_type": "stream",
     "text": [
      "Uploading Images:  51%|█████▏    | 19/37 [08:13<08:27, 28.19s/it]"
     ]
    },
    {
     "name": "stdout",
     "output_type": "stream",
     "text": [
      "Uploaded Grilled Meatballs with Sweet Soysauce.jpg and updated DataFrame.\n"
     ]
    },
    {
     "name": "stderr",
     "output_type": "stream",
     "text": [
      "Uploading Images:  54%|█████▍    | 20/37 [08:32<07:16, 25.69s/it]"
     ]
    },
    {
     "name": "stdout",
     "output_type": "stream",
     "text": [
      "Uploaded Fried rice with Egg.jpg and updated DataFrame.\n"
     ]
    },
    {
     "name": "stderr",
     "output_type": "stream",
     "text": [
      "Uploading Images:  57%|█████▋    | 21/37 [09:05<07:22, 27.68s/it]"
     ]
    },
    {
     "name": "stdout",
     "output_type": "stream",
     "text": [
      "Uploaded Fried Rice with diced cucumbers, diced carrots.jpg and updated DataFrame.\n"
     ]
    },
    {
     "name": "stderr",
     "output_type": "stream",
     "text": [
      "Uploading Images:  59%|█████▉    | 22/37 [09:25<06:22, 25.52s/it]"
     ]
    },
    {
     "name": "stdout",
     "output_type": "stream",
     "text": [
      "Uploaded Fried Rice with Omelette and sliced cucumber.jpg and updated DataFrame.\n"
     ]
    },
    {
     "name": "stderr",
     "output_type": "stream",
     "text": [
      "Uploading Images:  62%|██████▏   | 23/37 [09:50<05:55, 25.41s/it]"
     ]
    },
    {
     "name": "stdout",
     "output_type": "stream",
     "text": [
      "Uploaded Fried Rice with Meatballs, sliced carrots, sliced cucumber, and shrimp chips package.jpg and updated DataFrame.\n"
     ]
    },
    {
     "name": "stderr",
     "output_type": "stream",
     "text": [
      "Uploading Images:  65%|██████▍   | 24/37 [10:22<05:52, 27.13s/it]"
     ]
    },
    {
     "name": "stdout",
     "output_type": "stream",
     "text": [
      "Uploaded Fried Rice with Fried Egg and Sliced Cucumbers.jpg and updated DataFrame.\n"
     ]
    },
    {
     "name": "stderr",
     "output_type": "stream",
     "text": [
      "Uploading Images:  68%|██████▊   | 25/37 [10:47<05:21, 26.76s/it]"
     ]
    },
    {
     "name": "stdout",
     "output_type": "stream",
     "text": [
      "Uploaded Fried Rice with Fried Chicken drizzled in Cheese Sauce and sliced cucumbers.jpg and updated DataFrame.\n"
     ]
    },
    {
     "name": "stderr",
     "output_type": "stream",
     "text": [
      "Uploading Images:  70%|███████   | 26/37 [11:15<04:56, 26.96s/it]"
     ]
    },
    {
     "name": "stdout",
     "output_type": "stream",
     "text": [
      "Uploaded Fried Rice with Diced Cucumbers and Sliced Fried Chicken.jpg and updated DataFrame.\n"
     ]
    },
    {
     "name": "stderr",
     "output_type": "stream",
     "text": [
      "Uploading Images:  73%|███████▎  | 27/37 [11:43<04:32, 27.23s/it]"
     ]
    },
    {
     "name": "stdout",
     "output_type": "stream",
     "text": [
      "Uploaded Fried Noodles with Fried Wonton Dumplings, Wonton Crackers, Fried Shallots and Chives .jpg and updated DataFrame.\n"
     ]
    },
    {
     "name": "stderr",
     "output_type": "stream",
     "text": [
      "Uploading Images:  76%|███████▌  | 28/37 [12:08<03:59, 26.60s/it]"
     ]
    },
    {
     "name": "stdout",
     "output_type": "stream",
     "text": [
      "Uploaded Fried Fish.jpg and updated DataFrame.\n"
     ]
    },
    {
     "name": "stderr",
     "output_type": "stream",
     "text": [
      "Uploading Images:  78%|███████▊  | 29/37 [12:31<03:24, 25.62s/it]"
     ]
    },
    {
     "name": "stdout",
     "output_type": "stream",
     "text": [
      "Uploaded Fried Chicken with Rice.jpeg and updated DataFrame.\n"
     ]
    },
    {
     "name": "stderr",
     "output_type": "stream",
     "text": [
      "Uploading Images:  81%|████████  | 30/37 [12:58<03:00, 25.83s/it]"
     ]
    },
    {
     "name": "stdout",
     "output_type": "stream",
     "text": [
      "Uploaded Fried Brown Rice with Green Pea.jpg and updated DataFrame.\n"
     ]
    },
    {
     "name": "stderr",
     "output_type": "stream",
     "text": [
      "Uploading Images:  84%|████████▍ | 31/37 [13:22<02:32, 25.37s/it]"
     ]
    },
    {
     "name": "stdout",
     "output_type": "stream",
     "text": [
      "Uploaded Frappucino with Whip Cream and Caramel Sauce.jpg and updated DataFrame.\n"
     ]
    },
    {
     "name": "stderr",
     "output_type": "stream",
     "text": [
      "Uploading Images:  86%|████████▋ | 32/37 [13:56<02:20, 28.07s/it]"
     ]
    },
    {
     "name": "stdout",
     "output_type": "stream",
     "text": [
      "Uploaded Dimsum with Chili Sauce.jpg and updated DataFrame.\n"
     ]
    },
    {
     "name": "stderr",
     "output_type": "stream",
     "text": [
      "Uploading Images:  89%|████████▉ | 33/37 [14:24<01:51, 27.85s/it]"
     ]
    },
    {
     "name": "stdout",
     "output_type": "stream",
     "text": [
      "Uploaded Chocolate Martabak.jpg and updated DataFrame.\n"
     ]
    },
    {
     "name": "stderr",
     "output_type": "stream",
     "text": [
      "Uploading Images:  92%|█████████▏| 34/37 [14:48<01:20, 26.96s/it]"
     ]
    },
    {
     "name": "stdout",
     "output_type": "stream",
     "text": [
      "Uploaded Chocolate Ice cream drizzled with Chocolate sauce.jpg and updated DataFrame.\n"
     ]
    },
    {
     "name": "stderr",
     "output_type": "stream",
     "text": [
      "Uploading Images:  95%|█████████▍| 35/37 [15:12<00:51, 25.85s/it]"
     ]
    },
    {
     "name": "stdout",
     "output_type": "stream",
     "text": [
      "Uploaded Black Crust Pizza with Beef Ham Italian Sausage Pepperoni Pork Mediterranean Black Olives Green Bell.jpg and updated DataFrame.\n"
     ]
    },
    {
     "name": "stderr",
     "output_type": "stream",
     "text": [
      "Uploading Images:  97%|█████████▋| 36/37 [15:37<00:25, 25.74s/it]"
     ]
    },
    {
     "name": "stdout",
     "output_type": "stream",
     "text": [
      "Uploaded Basmati Fried Rice with Fried Chicken and Sambal.jpg and updated DataFrame.\n"
     ]
    },
    {
     "name": "stderr",
     "output_type": "stream",
     "text": [
      "Uploading Images: 100%|██████████| 37/37 [16:22<00:00, 26.55s/it]\n"
     ]
    },
    {
     "name": "stdout",
     "output_type": "stream",
     "text": [
      "Uploaded Bakso with Meat Stuffed Tofu, Fried Wonton Dumplings .jpg and updated DataFrame.\n"
     ]
    },
    {
     "name": "stderr",
     "output_type": "stream",
     "text": [
      "Uploading Images:   3%|▎         | 1/37 [00:20<12:14, 20.42s/it]"
     ]
    },
    {
     "name": "stdout",
     "output_type": "stream",
     "text": [
      "Uploaded Spaghetti with sliced meatballs.jpeg and updated DataFrame.\n"
     ]
    },
    {
     "name": "stderr",
     "output_type": "stream",
     "text": [
      "Uploading Images:   5%|▌         | 2/37 [00:55<16:57, 29.08s/it]"
     ]
    },
    {
     "name": "stdout",
     "output_type": "stream",
     "text": [
      "Uploaded Rice with Smashed Fried Chicken and Sambal.jpg and updated DataFrame.\n"
     ]
    },
    {
     "name": "stderr",
     "output_type": "stream",
     "text": [
      "Uploading Images:   8%|▊         | 3/37 [01:32<18:25, 32.51s/it]"
     ]
    },
    {
     "name": "stdout",
     "output_type": "stream",
     "text": [
      "Uploaded Rice with Satay and Chili Sauce.jpg and updated DataFrame.\n"
     ]
    },
    {
     "name": "stderr",
     "output_type": "stream",
     "text": [
      "Uploading Images:  11%|█         | 4/37 [02:05<17:59, 32.71s/it]"
     ]
    },
    {
     "name": "stdout",
     "output_type": "stream",
     "text": [
      "Uploaded Rice with Grilled Squid.jpg and updated DataFrame.\n"
     ]
    },
    {
     "name": "stderr",
     "output_type": "stream",
     "text": [
      "Uploading Images:  14%|█▎        | 5/37 [02:32<16:29, 30.91s/it]"
     ]
    },
    {
     "name": "stdout",
     "output_type": "stream",
     "text": [
      "Uploaded Rice with Grilled Squid(1).jpg and updated DataFrame.\n"
     ]
    },
    {
     "name": "stderr",
     "output_type": "stream",
     "text": [
      "Uploading Images:  16%|█▌        | 6/37 [03:00<15:25, 29.85s/it]"
     ]
    },
    {
     "name": "stdout",
     "output_type": "stream",
     "text": [
      "Uploaded Rice with Fried shrimp, Ketchup and Salad.jpg and updated DataFrame.\n"
     ]
    },
    {
     "name": "stderr",
     "output_type": "stream",
     "text": [
      "Uploading Images:  19%|█▉        | 7/37 [03:27<14:21, 28.70s/it]"
     ]
    },
    {
     "name": "stdout",
     "output_type": "stream",
     "text": [
      "Uploaded Rice with Fried shallots, half a lime, and half of a boiled egg and ketchup package.jpg and updated DataFrame.\n"
     ]
    },
    {
     "name": "stderr",
     "output_type": "stream",
     "text": [
      "Uploading Images:  22%|██▏       | 8/37 [03:45<12:17, 25.44s/it]"
     ]
    },
    {
     "name": "stdout",
     "output_type": "stream",
     "text": [
      "Uploaded Rice with Fried Tempe and Fried Chicken.jpg and updated DataFrame.\n"
     ]
    },
    {
     "name": "stderr",
     "output_type": "stream",
     "text": [
      "Uploading Images:  24%|██▍       | 9/37 [04:13<12:14, 26.25s/it]"
     ]
    },
    {
     "name": "stdout",
     "output_type": "stream",
     "text": [
      "Uploaded Rice with Fried Chicken and Ketchup.jpg and updated DataFrame.\n"
     ]
    },
    {
     "name": "stderr",
     "output_type": "stream",
     "text": [
      "Uploading Images:  27%|██▋       | 10/37 [04:37<11:28, 25.50s/it]"
     ]
    },
    {
     "name": "stdout",
     "output_type": "stream",
     "text": [
      "Uploaded Rice with Chicken Katsu Drizzled with Mayonaise and ketchup.jpg and updated DataFrame.\n"
     ]
    },
    {
     "name": "stderr",
     "output_type": "stream",
     "text": [
      "Uploading Images:  30%|██▉       | 11/37 [04:57<10:19, 23.82s/it]"
     ]
    },
    {
     "name": "stdout",
     "output_type": "stream",
     "text": [
      "Uploaded Rice with Chicken Fillet Drizzled in Mayonaise.jpg and updated DataFrame.\n"
     ]
    },
    {
     "name": "stderr",
     "output_type": "stream",
     "text": [
      "Uploading Images:  32%|███▏      | 12/37 [05:21<10:00, 24.03s/it]"
     ]
    },
    {
     "name": "stdout",
     "output_type": "stream",
     "text": [
      "Uploaded Rice with Chicken Fillet Drizzled in Chili Sauce.jpg and updated DataFrame.\n"
     ]
    },
    {
     "name": "stderr",
     "output_type": "stream",
     "text": [
      "Uploading Images:  35%|███▌      | 13/37 [05:41<09:07, 22.81s/it]"
     ]
    },
    {
     "name": "stdout",
     "output_type": "stream",
     "text": [
      "Uploaded Rice with Black Pepper Chicken Fillet. Salad with Mayonaise and Ketchup.jpg and updated DataFrame.\n"
     ]
    },
    {
     "name": "stderr",
     "output_type": "stream",
     "text": [
      "Uploading Images:  38%|███▊      | 14/37 [06:05<08:52, 23.15s/it]"
     ]
    },
    {
     "name": "stdout",
     "output_type": "stream",
     "text": [
      "Uploaded Ramen with half of a boikled egg, seaweed and fried seaweed.jpg and updated DataFrame.\n"
     ]
    },
    {
     "name": "stderr",
     "output_type": "stream",
     "text": [
      "Uploading Images:  41%|████      | 15/37 [06:33<08:57, 24.41s/it]"
     ]
    },
    {
     "name": "stdout",
     "output_type": "stream",
     "text": [
      "Uploaded Noodles with Minced Chicken, Sliced Chicken Katsu and Mustard Greens.jpg and updated DataFrame.\n"
     ]
    },
    {
     "name": "stderr",
     "output_type": "stream",
     "text": [
      "Uploading Images:  43%|████▎     | 16/37 [07:01<08:59, 25.67s/it]"
     ]
    },
    {
     "name": "stdout",
     "output_type": "stream",
     "text": [
      "Uploaded Mini Kebab and Salad Drizzled in Ketchup.jpg and updated DataFrame.\n"
     ]
    },
    {
     "name": "stderr",
     "output_type": "stream",
     "text": [
      "Uploading Images:  46%|████▌     | 17/37 [07:28<08:40, 26.04s/it]"
     ]
    },
    {
     "name": "stdout",
     "output_type": "stream",
     "text": [
      "Uploaded Japanese Curry with Fried Shrimp, Dumplings and Salad.jpg and updated DataFrame.\n"
     ]
    },
    {
     "name": "stderr",
     "output_type": "stream",
     "text": [
      "Uploading Images:  49%|████▊     | 18/37 [07:57<08:28, 26.76s/it]"
     ]
    },
    {
     "name": "stdout",
     "output_type": "stream",
     "text": [
      "Uploaded Japanese Curry with Chicken Fillet, Salad and sliced chili.jpg and updated DataFrame.\n"
     ]
    },
    {
     "name": "stderr",
     "output_type": "stream",
     "text": [
      "Uploading Images:  51%|█████▏    | 19/37 [08:20<07:43, 25.77s/it]"
     ]
    },
    {
     "name": "stdout",
     "output_type": "stream",
     "text": [
      "Uploaded Grilled Meatballs with Sweet Soysauce.jpg and updated DataFrame.\n"
     ]
    },
    {
     "name": "stderr",
     "output_type": "stream",
     "text": [
      "Uploading Images:  54%|█████▍    | 20/37 [08:46<07:20, 25.89s/it]"
     ]
    },
    {
     "name": "stdout",
     "output_type": "stream",
     "text": [
      "Uploaded Fried rice with Egg.jpg and updated DataFrame.\n"
     ]
    },
    {
     "name": "stderr",
     "output_type": "stream",
     "text": [
      "Uploading Images:  57%|█████▋    | 21/37 [09:14<07:05, 26.60s/it]"
     ]
    },
    {
     "name": "stdout",
     "output_type": "stream",
     "text": [
      "Uploaded Fried Rice with diced cucumbers, diced carrots.jpg and updated DataFrame.\n"
     ]
    },
    {
     "name": "stderr",
     "output_type": "stream",
     "text": [
      "Uploading Images:  59%|█████▉    | 22/37 [09:37<06:21, 25.44s/it]"
     ]
    },
    {
     "name": "stdout",
     "output_type": "stream",
     "text": [
      "Uploaded Fried Rice with Omelette and sliced cucumber.jpg and updated DataFrame.\n"
     ]
    },
    {
     "name": "stderr",
     "output_type": "stream",
     "text": [
      "Uploading Images:  62%|██████▏   | 23/37 [10:00<05:47, 24.81s/it]"
     ]
    },
    {
     "name": "stdout",
     "output_type": "stream",
     "text": [
      "Uploaded Fried Rice with Meatballs, sliced carrots, sliced cucumber, and shrimp chips package.jpg and updated DataFrame.\n"
     ]
    },
    {
     "name": "stderr",
     "output_type": "stream",
     "text": [
      "Uploading Images:  65%|██████▍   | 24/37 [10:32<05:48, 26.82s/it]"
     ]
    },
    {
     "name": "stdout",
     "output_type": "stream",
     "text": [
      "Uploaded Fried Rice with Fried Egg and Sliced Cucumbers.jpg and updated DataFrame.\n"
     ]
    },
    {
     "name": "stderr",
     "output_type": "stream",
     "text": [
      "Uploading Images:  68%|██████▊   | 25/37 [10:55<05:09, 25.76s/it]"
     ]
    },
    {
     "name": "stdout",
     "output_type": "stream",
     "text": [
      "Uploaded Fried Rice with Fried Chicken drizzled in Cheese Sauce and sliced cucumbers.jpg and updated DataFrame.\n"
     ]
    },
    {
     "name": "stderr",
     "output_type": "stream",
     "text": [
      "Uploading Images:  70%|███████   | 26/37 [11:19<04:35, 25.01s/it]"
     ]
    },
    {
     "name": "stdout",
     "output_type": "stream",
     "text": [
      "Uploaded Fried Rice with Diced Cucumbers and Sliced Fried Chicken.jpg and updated DataFrame.\n"
     ]
    },
    {
     "name": "stderr",
     "output_type": "stream",
     "text": [
      "Uploading Images:  73%|███████▎  | 27/37 [11:47<04:19, 25.96s/it]"
     ]
    },
    {
     "name": "stdout",
     "output_type": "stream",
     "text": [
      "Uploaded Fried Noodles with Fried Wonton Dumplings, Wonton Crackers, Fried Shallots and Chives .jpg and updated DataFrame.\n"
     ]
    },
    {
     "name": "stderr",
     "output_type": "stream",
     "text": [
      "Uploading Images:  76%|███████▌  | 28/37 [12:08<03:39, 24.43s/it]"
     ]
    },
    {
     "name": "stdout",
     "output_type": "stream",
     "text": [
      "Uploaded Fried Fish.jpg and updated DataFrame.\n"
     ]
    },
    {
     "name": "stderr",
     "output_type": "stream",
     "text": [
      "Uploading Images:  78%|███████▊  | 29/37 [12:22<02:50, 21.33s/it]"
     ]
    },
    {
     "name": "stdout",
     "output_type": "stream",
     "text": [
      "Uploaded Fried Chicken with Rice.jpeg and updated DataFrame.\n"
     ]
    },
    {
     "name": "stderr",
     "output_type": "stream",
     "text": [
      "Uploading Images:  81%|████████  | 30/37 [12:45<02:33, 21.95s/it]"
     ]
    },
    {
     "name": "stdout",
     "output_type": "stream",
     "text": [
      "Uploaded Fried Brown Rice with Green Pea.jpg and updated DataFrame.\n"
     ]
    },
    {
     "name": "stderr",
     "output_type": "stream",
     "text": [
      "Uploading Images:  84%|████████▍ | 31/37 [13:11<02:18, 23.09s/it]"
     ]
    },
    {
     "name": "stdout",
     "output_type": "stream",
     "text": [
      "Uploaded Frappucino with Whip Cream and Caramel Sauce.jpg and updated DataFrame.\n"
     ]
    },
    {
     "name": "stderr",
     "output_type": "stream",
     "text": [
      "Uploading Images:  86%|████████▋ | 32/37 [13:41<02:06, 25.25s/it]"
     ]
    },
    {
     "name": "stdout",
     "output_type": "stream",
     "text": [
      "Uploaded Dimsum with Chili Sauce.jpg and updated DataFrame.\n"
     ]
    },
    {
     "name": "stderr",
     "output_type": "stream",
     "text": [
      "Uploading Images:  89%|████████▉ | 33/37 [14:06<01:40, 25.22s/it]"
     ]
    },
    {
     "name": "stdout",
     "output_type": "stream",
     "text": [
      "Uploaded Chocolate Martabak.jpg and updated DataFrame.\n"
     ]
    },
    {
     "name": "stderr",
     "output_type": "stream",
     "text": [
      "Uploading Images:  92%|█████████▏| 34/37 [14:33<01:17, 25.71s/it]"
     ]
    },
    {
     "name": "stdout",
     "output_type": "stream",
     "text": [
      "Uploaded Chocolate Ice cream drizzled with Chocolate sauce.jpg and updated DataFrame.\n"
     ]
    },
    {
     "name": "stderr",
     "output_type": "stream",
     "text": [
      "Uploading Images:  95%|█████████▍| 35/37 [15:10<00:58, 29.11s/it]"
     ]
    },
    {
     "name": "stdout",
     "output_type": "stream",
     "text": [
      "Uploaded Black Crust Pizza with Beef Ham Italian Sausage Pepperoni Pork Mediterranean Black Olives Green Bell.jpg and updated DataFrame.\n"
     ]
    },
    {
     "name": "stderr",
     "output_type": "stream",
     "text": [
      "Uploading Images:  97%|█████████▋| 36/37 [15:37<00:28, 28.34s/it]"
     ]
    },
    {
     "name": "stdout",
     "output_type": "stream",
     "text": [
      "Uploaded Basmati Fried Rice with Fried Chicken and Sambal.jpg and updated DataFrame.\n"
     ]
    },
    {
     "name": "stderr",
     "output_type": "stream",
     "text": [
      "Uploading Images: 100%|██████████| 37/37 [16:00<00:00, 25.97s/it]\n"
     ]
    },
    {
     "name": "stdout",
     "output_type": "stream",
     "text": [
      "Uploaded Bakso with Meat Stuffed Tofu, Fried Wonton Dumplings .jpg and updated DataFrame.\n"
     ]
    },
    {
     "name": "stderr",
     "output_type": "stream",
     "text": [
      "Uploading Images:   3%|▎         | 1/37 [00:25<15:03, 25.10s/it]"
     ]
    },
    {
     "name": "stdout",
     "output_type": "stream",
     "text": [
      "Uploaded Spaghetti with sliced meatballs.jpeg and updated DataFrame.\n"
     ]
    },
    {
     "name": "stderr",
     "output_type": "stream",
     "text": [
      "Uploading Images:   5%|▌         | 2/37 [00:52<15:21, 26.33s/it]"
     ]
    },
    {
     "name": "stdout",
     "output_type": "stream",
     "text": [
      "Uploaded Rice with Smashed Fried Chicken and Sambal.jpg and updated DataFrame.\n"
     ]
    },
    {
     "name": "stderr",
     "output_type": "stream",
     "text": [
      "Uploading Images:   8%|▊         | 3/37 [01:20<15:28, 27.31s/it]"
     ]
    },
    {
     "name": "stdout",
     "output_type": "stream",
     "text": [
      "Uploaded Rice with Satay and Chili Sauce.jpg and updated DataFrame.\n"
     ]
    },
    {
     "name": "stderr",
     "output_type": "stream",
     "text": [
      "Uploading Images:  11%|█         | 4/37 [01:45<14:28, 26.33s/it]"
     ]
    },
    {
     "name": "stdout",
     "output_type": "stream",
     "text": [
      "Uploaded Rice with Grilled Squid.jpg and updated DataFrame.\n"
     ]
    },
    {
     "name": "stderr",
     "output_type": "stream",
     "text": [
      "Uploading Images:  14%|█▎        | 5/37 [02:13<14:23, 26.97s/it]"
     ]
    },
    {
     "name": "stdout",
     "output_type": "stream",
     "text": [
      "Uploaded Rice with Grilled Squid(1).jpg and updated DataFrame.\n"
     ]
    },
    {
     "name": "stderr",
     "output_type": "stream",
     "text": [
      "Uploading Images:  16%|█▌        | 6/37 [02:38<13:30, 26.14s/it]"
     ]
    },
    {
     "name": "stdout",
     "output_type": "stream",
     "text": [
      "Uploaded Rice with Fried shrimp, Ketchup and Salad.jpg and updated DataFrame.\n"
     ]
    },
    {
     "name": "stderr",
     "output_type": "stream",
     "text": [
      "Uploading Images:  19%|█▉        | 7/37 [03:03<12:51, 25.71s/it]"
     ]
    },
    {
     "name": "stdout",
     "output_type": "stream",
     "text": [
      "Uploaded Rice with Fried shallots, half a lime, and half of a boiled egg and ketchup package.jpg and updated DataFrame.\n"
     ]
    },
    {
     "name": "stderr",
     "output_type": "stream",
     "text": [
      "Uploading Images:  22%|██▏       | 8/37 [03:28<12:26, 25.72s/it]"
     ]
    },
    {
     "name": "stdout",
     "output_type": "stream",
     "text": [
      "Uploaded Rice with Fried Tempe and Fried Chicken.jpg and updated DataFrame.\n"
     ]
    },
    {
     "name": "stderr",
     "output_type": "stream",
     "text": [
      "Uploading Images:  24%|██▍       | 9/37 [04:08<14:02, 30.11s/it]"
     ]
    },
    {
     "name": "stdout",
     "output_type": "stream",
     "text": [
      "Uploaded Rice with Fried Chicken and Ketchup.jpg and updated DataFrame.\n"
     ]
    },
    {
     "name": "stderr",
     "output_type": "stream",
     "text": [
      "Uploading Images:  27%|██▋       | 10/37 [04:33<12:52, 28.63s/it]"
     ]
    },
    {
     "name": "stdout",
     "output_type": "stream",
     "text": [
      "Uploaded Rice with Chicken Katsu Drizzled with Mayonaise and ketchup.jpg and updated DataFrame.\n"
     ]
    },
    {
     "name": "stderr",
     "output_type": "stream",
     "text": [
      "Uploading Images:  30%|██▉       | 11/37 [04:54<11:18, 26.10s/it]"
     ]
    },
    {
     "name": "stdout",
     "output_type": "stream",
     "text": [
      "Uploaded Rice with Chicken Fillet Drizzled in Mayonaise.jpg and updated DataFrame.\n"
     ]
    },
    {
     "name": "stderr",
     "output_type": "stream",
     "text": [
      "Uploading Images:  32%|███▏      | 12/37 [05:13<09:57, 23.90s/it]"
     ]
    },
    {
     "name": "stdout",
     "output_type": "stream",
     "text": [
      "Uploaded Rice with Chicken Fillet Drizzled in Chili Sauce.jpg and updated DataFrame.\n"
     ]
    },
    {
     "name": "stderr",
     "output_type": "stream",
     "text": [
      "Uploading Images:  35%|███▌      | 13/37 [05:34<09:17, 23.22s/it]"
     ]
    },
    {
     "name": "stdout",
     "output_type": "stream",
     "text": [
      "Uploaded Rice with Black Pepper Chicken Fillet. Salad with Mayonaise and Ketchup.jpg and updated DataFrame.\n"
     ]
    },
    {
     "name": "stderr",
     "output_type": "stream",
     "text": [
      "Uploading Images:  38%|███▊      | 14/37 [05:57<08:47, 22.93s/it]"
     ]
    },
    {
     "name": "stdout",
     "output_type": "stream",
     "text": [
      "Uploaded Ramen with half of a boikled egg, seaweed and fried seaweed.jpg and updated DataFrame.\n"
     ]
    },
    {
     "name": "stderr",
     "output_type": "stream",
     "text": [
      "Uploading Images:  41%|████      | 15/37 [06:20<08:28, 23.13s/it]"
     ]
    },
    {
     "name": "stdout",
     "output_type": "stream",
     "text": [
      "Uploaded Noodles with Minced Chicken, Sliced Chicken Katsu and Mustard Greens.jpg and updated DataFrame.\n"
     ]
    },
    {
     "name": "stderr",
     "output_type": "stream",
     "text": [
      "Uploading Images:  43%|████▎     | 16/37 [06:44<08:07, 23.22s/it]"
     ]
    },
    {
     "name": "stdout",
     "output_type": "stream",
     "text": [
      "Uploaded Mini Kebab and Salad Drizzled in Ketchup.jpg and updated DataFrame.\n"
     ]
    },
    {
     "name": "stderr",
     "output_type": "stream",
     "text": [
      "Uploading Images:  46%|████▌     | 17/37 [07:15<08:35, 25.78s/it]"
     ]
    },
    {
     "name": "stdout",
     "output_type": "stream",
     "text": [
      "Uploaded Japanese Curry with Fried Shrimp, Dumplings and Salad.jpg and updated DataFrame.\n"
     ]
    },
    {
     "name": "stderr",
     "output_type": "stream",
     "text": [
      "Uploading Images:  49%|████▊     | 18/37 [07:38<07:50, 24.78s/it]"
     ]
    },
    {
     "name": "stdout",
     "output_type": "stream",
     "text": [
      "Uploaded Japanese Curry with Chicken Fillet, Salad and sliced chili.jpg and updated DataFrame.\n"
     ]
    },
    {
     "name": "stderr",
     "output_type": "stream",
     "text": [
      "Uploading Images:  51%|█████▏    | 19/37 [08:02<07:21, 24.54s/it]"
     ]
    },
    {
     "name": "stdout",
     "output_type": "stream",
     "text": [
      "Uploaded Grilled Meatballs with Sweet Soysauce.jpg and updated DataFrame.\n"
     ]
    },
    {
     "name": "stderr",
     "output_type": "stream",
     "text": [
      "Uploading Images:  54%|█████▍    | 20/37 [08:28<07:04, 24.98s/it]"
     ]
    },
    {
     "name": "stdout",
     "output_type": "stream",
     "text": [
      "Uploaded Fried rice with Egg.jpg and updated DataFrame.\n"
     ]
    },
    {
     "name": "stderr",
     "output_type": "stream",
     "text": [
      "Uploading Images:  57%|█████▋    | 21/37 [08:57<07:00, 26.31s/it]"
     ]
    },
    {
     "name": "stdout",
     "output_type": "stream",
     "text": [
      "Uploaded Fried Rice with diced cucumbers, diced carrots.jpg and updated DataFrame.\n"
     ]
    },
    {
     "name": "stderr",
     "output_type": "stream",
     "text": [
      "Uploading Images:  59%|█████▉    | 22/37 [09:20<06:20, 25.36s/it]"
     ]
    },
    {
     "name": "stdout",
     "output_type": "stream",
     "text": [
      "Uploaded Fried Rice with Omelette and sliced cucumber.jpg and updated DataFrame.\n"
     ]
    },
    {
     "name": "stderr",
     "output_type": "stream",
     "text": [
      "Uploading Images:  62%|██████▏   | 23/37 [09:53<06:27, 27.65s/it]"
     ]
    },
    {
     "name": "stdout",
     "output_type": "stream",
     "text": [
      "Uploaded Fried Rice with Meatballs, sliced carrots, sliced cucumber, and shrimp chips package.jpg and updated DataFrame.\n"
     ]
    },
    {
     "name": "stderr",
     "output_type": "stream",
     "text": [
      "Uploading Images:  65%|██████▍   | 24/37 [10:15<05:37, 26.00s/it]"
     ]
    },
    {
     "name": "stdout",
     "output_type": "stream",
     "text": [
      "Uploaded Fried Rice with Fried Egg and Sliced Cucumbers.jpg and updated DataFrame.\n"
     ]
    },
    {
     "name": "stderr",
     "output_type": "stream",
     "text": [
      "Uploading Images:  68%|██████▊   | 25/37 [10:42<05:12, 26.04s/it]"
     ]
    },
    {
     "name": "stdout",
     "output_type": "stream",
     "text": [
      "Uploaded Fried Rice with Fried Chicken drizzled in Cheese Sauce and sliced cucumbers.jpg and updated DataFrame.\n"
     ]
    },
    {
     "name": "stderr",
     "output_type": "stream",
     "text": [
      "Uploading Images:  70%|███████   | 26/37 [11:01<04:25, 24.12s/it]"
     ]
    },
    {
     "name": "stdout",
     "output_type": "stream",
     "text": [
      "Uploaded Fried Rice with Diced Cucumbers and Sliced Fried Chicken.jpg and updated DataFrame.\n"
     ]
    },
    {
     "name": "stderr",
     "output_type": "stream",
     "text": [
      "Uploading Images:  73%|███████▎  | 27/37 [11:18<03:39, 21.97s/it]"
     ]
    },
    {
     "name": "stdout",
     "output_type": "stream",
     "text": [
      "Uploaded Fried Noodles with Fried Wonton Dumplings, Wonton Crackers, Fried Shallots and Chives .jpg and updated DataFrame.\n"
     ]
    },
    {
     "name": "stderr",
     "output_type": "stream",
     "text": [
      "Uploading Images:  76%|███████▌  | 28/37 [11:45<03:30, 23.44s/it]"
     ]
    },
    {
     "name": "stdout",
     "output_type": "stream",
     "text": [
      "Uploaded Fried Fish.jpg and updated DataFrame.\n"
     ]
    },
    {
     "name": "stderr",
     "output_type": "stream",
     "text": [
      "Uploading Images:  78%|███████▊  | 29/37 [12:01<02:50, 21.26s/it]"
     ]
    },
    {
     "name": "stdout",
     "output_type": "stream",
     "text": [
      "Uploaded Fried Chicken with Rice.jpeg and updated DataFrame.\n"
     ]
    },
    {
     "name": "stderr",
     "output_type": "stream",
     "text": [
      "Uploading Images:  81%|████████  | 30/37 [12:25<02:33, 21.97s/it]"
     ]
    },
    {
     "name": "stdout",
     "output_type": "stream",
     "text": [
      "Uploaded Fried Brown Rice with Green Pea.jpg and updated DataFrame.\n"
     ]
    },
    {
     "name": "stderr",
     "output_type": "stream",
     "text": [
      "Uploading Images:  84%|████████▍ | 31/37 [12:47<02:12, 22.00s/it]"
     ]
    },
    {
     "name": "stdout",
     "output_type": "stream",
     "text": [
      "Uploaded Frappucino with Whip Cream and Caramel Sauce.jpg and updated DataFrame.\n"
     ]
    },
    {
     "name": "stderr",
     "output_type": "stream",
     "text": [
      "Uploading Images:  86%|████████▋ | 32/37 [13:11<01:52, 22.55s/it]"
     ]
    },
    {
     "name": "stdout",
     "output_type": "stream",
     "text": [
      "Uploaded Dimsum with Chili Sauce.jpg and updated DataFrame.\n"
     ]
    },
    {
     "name": "stderr",
     "output_type": "stream",
     "text": [
      "Uploading Images:  89%|████████▉ | 33/37 [13:38<01:35, 23.83s/it]"
     ]
    },
    {
     "name": "stdout",
     "output_type": "stream",
     "text": [
      "Uploaded Chocolate Martabak.jpg and updated DataFrame.\n"
     ]
    },
    {
     "name": "stderr",
     "output_type": "stream",
     "text": [
      "Uploading Images:  92%|█████████▏| 34/37 [13:58<01:08, 22.68s/it]"
     ]
    },
    {
     "name": "stdout",
     "output_type": "stream",
     "text": [
      "Uploaded Chocolate Ice cream drizzled with Chocolate sauce.jpg and updated DataFrame.\n"
     ]
    },
    {
     "name": "stderr",
     "output_type": "stream",
     "text": [
      "Uploading Images:  95%|█████████▍| 35/37 [14:24<00:47, 23.89s/it]"
     ]
    },
    {
     "name": "stdout",
     "output_type": "stream",
     "text": [
      "Uploaded Black Crust Pizza with Beef Ham Italian Sausage Pepperoni Pork Mediterranean Black Olives Green Bell.jpg and updated DataFrame.\n"
     ]
    },
    {
     "name": "stderr",
     "output_type": "stream",
     "text": [
      "Uploading Images:  97%|█████████▋| 36/37 [14:51<00:24, 24.84s/it]"
     ]
    },
    {
     "name": "stdout",
     "output_type": "stream",
     "text": [
      "Uploaded Basmati Fried Rice with Fried Chicken and Sambal.jpg and updated DataFrame.\n"
     ]
    },
    {
     "name": "stderr",
     "output_type": "stream",
     "text": [
      "Uploading Images: 100%|██████████| 37/37 [15:15<00:00, 24.75s/it]"
     ]
    },
    {
     "name": "stdout",
     "output_type": "stream",
     "text": [
      "Uploaded Bakso with Meat Stuffed Tofu, Fried Wonton Dumplings .jpg and updated DataFrame.\n"
     ]
    },
    {
     "name": "stderr",
     "output_type": "stream",
     "text": [
      "\n"
     ]
    }
   ],
   "source": [
    "def upload_image_and_get_response(file_path):\n",
    "    url = 'http://localhost:5128/Analysis/Method3'\n",
    "    with open(file_path, 'rb') as f:\n",
    "        files = {'image': (file_path, f, 'image/jpeg')}\n",
    "        response = requests.post(url, files=files)\n",
    "        \n",
    "        # Check if the response contains JSON data\n",
    "        if 'application/json' in response.headers.get('content-type', ''):\n",
    "            return response.json()\n",
    "        else:\n",
    "            response.raise_for_status()\n",
    "\n",
    "\n",
    "\n",
    "def update_dataframe_with_response(image_name, response_data):\n",
    "    # Remove the extension from the image name\n",
    "    image_name = os.path.splitext(image_name)[0]\n",
    "    nova_classification = response_data['novaClassification']\n",
    "    if str(nova_classification).upper() in mapping_dict_case_insensitive:\n",
    "        nova_classification = mapping_dict_case_insensitive[str(nova_classification).upper()]\n",
    "\n",
    "    if image_name not in keyValueClown:\n",
    "        keyValueClown[image_name] = {\n",
    "            \"Actual Nova\": [],\n",
    "            \"Actual NutriScore\": []\n",
    "        }\n",
    "\n",
    "    keyValueClown[image_name]['Actual Nova'].append(nova_classification)\n",
    "    keyValueClown[image_name]['Actual NutriScore'].append(response_data['nutriGrade'])\n",
    "\n",
    "    # Save the updated data to the JSON file\n",
    "    json.dump(keyValueClown, open('keyValueClown.json', 'w'), indent=4)\n",
    "    \n",
    "\n",
    "\n",
    "def upload_images_and_update_dataframe(directory):\n",
    "    image_files = [f for f in os.listdir(directory) if f.lower().endswith(('.png', '.jpg', '.jpeg', '.gif', '.bmp'))]\n",
    "\n",
    "    for filename in tqdm(image_files, desc=\"Uploading Images\"):\n",
    "        success = False\n",
    "        attempts = 0\n",
    "        response_data = None\n",
    "        while not success and attempts < 3:\n",
    "            try:\n",
    "                response_data = upload_image_and_get_response(os.path.join(directory, filename)) \n",
    "                success = True\n",
    "            except Exception as e:\n",
    "                attempts += 1\n",
    "                print(f\"Error processing {filename}: {e}. Attempt {attempts} of 3.\")\n",
    "                time.sleep(1)  # Brief pause before retry\n",
    "        if not success:\n",
    "            print(f\"Failed to process {filename}.\")\n",
    "            break\n",
    "        update_dataframe_with_response(filename, response_data)\n",
    "        print(f\"Uploaded {filename} and updated DataFrame.\")\n",
    "\n",
    "    # Export the data to a new CSV file\n",
    "    df = pd.DataFrame.from_dict(keyValueClown, orient='index').reset_index()\n",
    "    df.to_csv('Updated.csv', index=False)\n",
    "       \n",
    "\n",
    "# Example usage\n",
    "for i in range(1, 5):\n",
    "    upload_images_and_update_dataframe('images')"
   ]
  },
  {
   "cell_type": "code",
   "execution_count": 11,
   "metadata": {},
   "outputs": [],
   "source": [
    "# Function to calculate accuracy for NutriScore\n",
    "def calculate_accuracy_for_nutriscore(expectation, actual):\n",
    "    # Convert actual to a list if it's a string with commas\n",
    "    if isinstance(actual, str) and ',' in actual:\n",
    "        actual = actual.split(', ')\n",
    "    elif isinstance(actual, dict) or isinstance(actual, list):\n",
    "        actual = actual\n",
    "    else:\n",
    "        actual = [actual]\n",
    "    \n",
    "    # Mapping NutriScore letters to numbers\n",
    "    score_mapping = {'A': 1, 'B': 2, 'C': 3, 'D': 4, 'E': 5}\n",
    "    \n",
    "    scores = []\n",
    "    \n",
    "    for act in actual:\n",
    "        if expectation == act:\n",
    "            scores.append(1.0)\n",
    "        else:\n",
    "            if expectation not in score_mapping or act not in score_mapping:\n",
    "                continue\n",
    "            exp_num = score_mapping[expectation]\n",
    "            act_num = score_mapping.get(act, 0)  # Default to 0 if not found\n",
    "            absolute_difference = abs(exp_num - act_num)\n",
    "            scores.append(1 - (absolute_difference / 4))\n",
    "    if len(scores) == 0:\n",
    "        return None\n",
    "    return sum(scores) / len(scores)\n",
    "\n",
    "for key in list(keyValueClown.keys()):\n",
    "    if 'Actual NutriScore' not in keyValueClown[key]:\n",
    "        continue\n",
    "    if 'NutriScore Expectation' not in keyValueClown[key]:\n",
    "        continue\n",
    "    keyValueClown[key]['NutriScore Accuracy'] = calculate_accuracy_for_nutriscore(\n",
    "        keyValueClown[key]['NutriScore Expectation'],\n",
    "        keyValueClown[key]['Actual NutriScore']\n",
    "    )\n",
    "\n",
    "\n"
   ]
  },
  {
   "cell_type": "code",
   "execution_count": 12,
   "metadata": {},
   "outputs": [],
   "source": [
    "# Function to calculate accuracy\n",
    "def calculate_accuracy_for_nova(expectation, actual):\n",
    "    if isinstance(actual, str) and ',' in actual:\n",
    "        actual = actual.split(', ')\n",
    "    elif isinstance(actual, dict) or isinstance(actual, list):\n",
    "        actual = actual\n",
    "    else:\n",
    "        actual = [actual]\n",
    "    \n",
    "    \n",
    "    \n",
    "    scores = []\n",
    "    \n",
    "    for act in actual:\n",
    "\n",
    "        if act == 'nan' or act != act or not str(act).isdigit():\n",
    "            return None\n",
    "        if expectation == act:\n",
    "            scores.append(1.0)\n",
    "        else:\n",
    "            act = int(act)\n",
    "            expectation = int(expectation)\n",
    "            absolute_difference = abs(act - expectation)\n",
    "            scores.append(1 - (absolute_difference / 3))\n",
    "    if len(scores) == 0:\n",
    "        return None\n",
    "    return sum(scores) / len(scores) \n",
    "\n",
    "for key in list(keyValueClown.keys()):\n",
    "    if 'Actual Nova' not in keyValueClown[key]:\n",
    "        continue\n",
    "    if 'Nova Expectation' not in keyValueClown[key]:\n",
    "        continue\n",
    "    keyValueClown[key]['Nova Accuracy'] = calculate_accuracy_for_nova(\n",
    "        keyValueClown[key]['Nova Expectation'],\n",
    "        keyValueClown[key]['Actual Nova']\n",
    "    )"
   ]
  },
  {
   "cell_type": "code",
   "execution_count": 13,
   "metadata": {},
   "outputs": [
    {
     "data": {
      "text/html": [
       "<div>\n",
       "<style scoped>\n",
       "    .dataframe tbody tr th:only-of-type {\n",
       "        vertical-align: middle;\n",
       "    }\n",
       "\n",
       "    .dataframe tbody tr th {\n",
       "        vertical-align: top;\n",
       "    }\n",
       "\n",
       "    .dataframe thead th {\n",
       "        text-align: right;\n",
       "    }\n",
       "</style>\n",
       "<table border=\"1\" class=\"dataframe\">\n",
       "  <thead>\n",
       "    <tr style=\"text-align: right;\">\n",
       "      <th></th>\n",
       "      <th>index</th>\n",
       "      <th>Nova Expectation</th>\n",
       "      <th>NutriScore Expectation</th>\n",
       "      <th>Actual Nova</th>\n",
       "      <th>Actual NutriScore</th>\n",
       "      <th>NutriScore Accuracy</th>\n",
       "      <th>Nova Accuracy</th>\n",
       "    </tr>\n",
       "  </thead>\n",
       "  <tbody>\n",
       "    <tr>\n",
       "      <th>0</th>\n",
       "      <td>Rice with Fried Chicken and Ketchup</td>\n",
       "      <td>3</td>\n",
       "      <td>D</td>\n",
       "      <td>[4, 4, 4, 4, 4, 4, 4, 4]</td>\n",
       "      <td>[D, D, C, E, D, D, D, D]</td>\n",
       "      <td>0.937500</td>\n",
       "      <td>0.666667</td>\n",
       "    </tr>\n",
       "    <tr>\n",
       "      <th>1</th>\n",
       "      <td>Basmati Fried Rice with Fried Chicken and Sambal</td>\n",
       "      <td>3</td>\n",
       "      <td>C</td>\n",
       "      <td>[3, 3, 2, 3, 3, 3, 2, 3]</td>\n",
       "      <td>[D, C, B, UNDEFINED, D, C, C, D]</td>\n",
       "      <td>0.857143</td>\n",
       "      <td>0.916667</td>\n",
       "    </tr>\n",
       "    <tr>\n",
       "      <th>2</th>\n",
       "      <td>Bakso with Meat Stuffed Tofu, Fried Wonton Dum...</td>\n",
       "      <td>3</td>\n",
       "      <td>C</td>\n",
       "      <td>[3, 3, 3, 3, 3, 3, 3, 3]</td>\n",
       "      <td>[D, C, D, C, D, D, C, C]</td>\n",
       "      <td>0.875000</td>\n",
       "      <td>1.000000</td>\n",
       "    </tr>\n",
       "    <tr>\n",
       "      <th>3</th>\n",
       "      <td>Black Crust Pizza with Beef Ham Italian Sausag...</td>\n",
       "      <td>3</td>\n",
       "      <td>D</td>\n",
       "      <td>[]</td>\n",
       "      <td>[]</td>\n",
       "      <td>NaN</td>\n",
       "      <td>NaN</td>\n",
       "    </tr>\n",
       "    <tr>\n",
       "      <th>4</th>\n",
       "      <td>Chocolate Ice cream drizzled with Chocolate sauce</td>\n",
       "      <td>4</td>\n",
       "      <td>D</td>\n",
       "      <td>[4, 4, 4, 4, 4, 4, 4, 4]</td>\n",
       "      <td>[D, D, D, D, D, E, D, D]</td>\n",
       "      <td>0.968750</td>\n",
       "      <td>1.000000</td>\n",
       "    </tr>\n",
       "  </tbody>\n",
       "</table>\n",
       "</div>"
      ],
      "text/plain": [
       "                                               index  Nova Expectation  \\\n",
       "0                Rice with Fried Chicken and Ketchup                 3   \n",
       "1   Basmati Fried Rice with Fried Chicken and Sambal                 3   \n",
       "2  Bakso with Meat Stuffed Tofu, Fried Wonton Dum...                 3   \n",
       "3  Black Crust Pizza with Beef Ham Italian Sausag...                 3   \n",
       "4  Chocolate Ice cream drizzled with Chocolate sauce                 4   \n",
       "\n",
       "  NutriScore Expectation               Actual Nova  \\\n",
       "0                      D  [4, 4, 4, 4, 4, 4, 4, 4]   \n",
       "1                      C  [3, 3, 2, 3, 3, 3, 2, 3]   \n",
       "2                      C  [3, 3, 3, 3, 3, 3, 3, 3]   \n",
       "3                      D                        []   \n",
       "4                      D  [4, 4, 4, 4, 4, 4, 4, 4]   \n",
       "\n",
       "                  Actual NutriScore  NutriScore Accuracy  Nova Accuracy  \n",
       "0          [D, D, C, E, D, D, D, D]             0.937500       0.666667  \n",
       "1  [D, C, B, UNDEFINED, D, C, C, D]             0.857143       0.916667  \n",
       "2          [D, C, D, C, D, D, C, C]             0.875000       1.000000  \n",
       "3                                []                  NaN            NaN  \n",
       "4          [D, D, D, D, D, E, D, D]             0.968750       1.000000  "
      ]
     },
     "execution_count": 13,
     "metadata": {},
     "output_type": "execute_result"
    }
   ],
   "source": [
    "# To dataframe\n",
    "df = pd.DataFrame.from_dict(keyValueClown, orient='index').reset_index()\n",
    "df.to_csv('Updated.csv', index=False)\n",
    "df.head()"
   ]
  },
  {
   "cell_type": "code",
   "execution_count": 14,
   "metadata": {},
   "outputs": [
    {
     "data": {
      "text/html": [
       "<div>\n",
       "<style scoped>\n",
       "    .dataframe tbody tr th:only-of-type {\n",
       "        vertical-align: middle;\n",
       "    }\n",
       "\n",
       "    .dataframe tbody tr th {\n",
       "        vertical-align: top;\n",
       "    }\n",
       "\n",
       "    .dataframe thead th {\n",
       "        text-align: right;\n",
       "    }\n",
       "</style>\n",
       "<table border=\"1\" class=\"dataframe\">\n",
       "  <thead>\n",
       "    <tr style=\"text-align: right;\">\n",
       "      <th></th>\n",
       "      <th>index</th>\n",
       "      <th>Nova Expectation</th>\n",
       "      <th>NutriScore Expectation</th>\n",
       "      <th>Actual Nova</th>\n",
       "      <th>Actual NutriScore</th>\n",
       "      <th>NutriScore Accuracy</th>\n",
       "      <th>Nova Accuracy</th>\n",
       "    </tr>\n",
       "  </thead>\n",
       "  <tbody>\n",
       "    <tr>\n",
       "      <th>0</th>\n",
       "      <td>Rice with Fried Chicken and Ketchup</td>\n",
       "      <td>3.0</td>\n",
       "      <td>D</td>\n",
       "      <td>[4, 4, 4, 4, 4, 4, 4, 4]</td>\n",
       "      <td>[D, D, C, E, D, D, D, D]</td>\n",
       "      <td>0.937500</td>\n",
       "      <td>0.666667</td>\n",
       "    </tr>\n",
       "    <tr>\n",
       "      <th>1</th>\n",
       "      <td>Basmati Fried Rice with Fried Chicken and Sambal</td>\n",
       "      <td>3.0</td>\n",
       "      <td>C</td>\n",
       "      <td>[3, 3, 2, 3, 3, 3, 2, 3]</td>\n",
       "      <td>[D, C, B, UNDEFINED, D, C, C, D]</td>\n",
       "      <td>0.857143</td>\n",
       "      <td>0.916667</td>\n",
       "    </tr>\n",
       "    <tr>\n",
       "      <th>2</th>\n",
       "      <td>Bakso with Meat Stuffed Tofu, Fried Wonton Dum...</td>\n",
       "      <td>3.0</td>\n",
       "      <td>C</td>\n",
       "      <td>[3, 3, 3, 3, 3, 3, 3, 3]</td>\n",
       "      <td>[D, C, D, C, D, D, C, C]</td>\n",
       "      <td>0.875000</td>\n",
       "      <td>1.000000</td>\n",
       "    </tr>\n",
       "    <tr>\n",
       "      <th>3</th>\n",
       "      <td>Black Crust Pizza with Beef Ham Italian Sausag...</td>\n",
       "      <td>3.0</td>\n",
       "      <td>D</td>\n",
       "      <td>[]</td>\n",
       "      <td>[]</td>\n",
       "      <td>NaN</td>\n",
       "      <td>NaN</td>\n",
       "    </tr>\n",
       "    <tr>\n",
       "      <th>4</th>\n",
       "      <td>Chocolate Ice cream drizzled with Chocolate sauce</td>\n",
       "      <td>4.0</td>\n",
       "      <td>D</td>\n",
       "      <td>[4, 4, 4, 4, 4, 4, 4, 4]</td>\n",
       "      <td>[D, D, D, D, D, E, D, D]</td>\n",
       "      <td>0.968750</td>\n",
       "      <td>1.000000</td>\n",
       "    </tr>\n",
       "  </tbody>\n",
       "</table>\n",
       "</div>"
      ],
      "text/plain": [
       "                                               index  Nova Expectation  \\\n",
       "0                Rice with Fried Chicken and Ketchup               3.0   \n",
       "1   Basmati Fried Rice with Fried Chicken and Sambal               3.0   \n",
       "2  Bakso with Meat Stuffed Tofu, Fried Wonton Dum...               3.0   \n",
       "3  Black Crust Pizza with Beef Ham Italian Sausag...               3.0   \n",
       "4  Chocolate Ice cream drizzled with Chocolate sauce               4.0   \n",
       "\n",
       "  NutriScore Expectation               Actual Nova  \\\n",
       "0                      D  [4, 4, 4, 4, 4, 4, 4, 4]   \n",
       "1                      C  [3, 3, 2, 3, 3, 3, 2, 3]   \n",
       "2                      C  [3, 3, 3, 3, 3, 3, 3, 3]   \n",
       "3                      D                        []   \n",
       "4                      D  [4, 4, 4, 4, 4, 4, 4, 4]   \n",
       "\n",
       "                  Actual NutriScore  NutriScore Accuracy  Nova Accuracy  \n",
       "0          [D, D, C, E, D, D, D, D]             0.937500       0.666667  \n",
       "1  [D, C, B, UNDEFINED, D, C, C, D]             0.857143       0.916667  \n",
       "2          [D, C, D, C, D, D, C, C]             0.875000       1.000000  \n",
       "3                                []                  NaN            NaN  \n",
       "4          [D, D, D, D, D, E, D, D]             0.968750       1.000000  "
      ]
     },
     "execution_count": 14,
     "metadata": {},
     "output_type": "execute_result"
    }
   ],
   "source": [
    "# Add row total accuracy for NOVA\n",
    "# filter Null values\n",
    "nova_accuracy_non_null_len = len(df[df['Nova Accuracy'].notnull()])\n",
    "nova_accuracy_sum = df['Nova Accuracy'].sum()\n",
    "df.loc['Total', 'Nova Accuracy'] = nova_accuracy_sum / nova_accuracy_non_null_len \n",
    "\n",
    "\n",
    "# Add row total accuracy for NutriScore\n",
    "# filter Null values\n",
    "nutri_score_accuracy_non_null_len = len(df[df['NutriScore Accuracy'].notnull()])\n",
    "nutri_score_accuracy_sum = df['NutriScore Accuracy'].sum()\n",
    "df.loc['Total', 'NutriScore Accuracy'] = nutri_score_accuracy_sum / nutri_score_accuracy_non_null_len\n",
    "\n",
    "\n",
    "df.head()"
   ]
  },
  {
   "cell_type": "code",
   "execution_count": 15,
   "metadata": {},
   "outputs": [],
   "source": [
    "# Export the data to a new CSV file\n",
    "df.to_csv('Computed.csv', index=False)"
   ]
  }
 ],
 "metadata": {
  "kernelspec": {
   "display_name": "base",
   "language": "python",
   "name": "python3"
  },
  "language_info": {
   "codemirror_mode": {
    "name": "ipython",
    "version": 3
   },
   "file_extension": ".py",
   "mimetype": "text/x-python",
   "name": "python",
   "nbconvert_exporter": "python",
   "pygments_lexer": "ipython3",
   "version": "3.9.13"
  }
 },
 "nbformat": 4,
 "nbformat_minor": 2
}
